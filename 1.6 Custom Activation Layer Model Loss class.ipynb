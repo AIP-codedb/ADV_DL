{
 "cells": [
  {
   "cell_type": "markdown",
   "metadata": {},
   "source": [
    "# Custom Loss function"
   ]
  },
  {
   "cell_type": "code",
   "execution_count": 1,
   "metadata": {},
   "outputs": [],
   "source": [
    "import numpy as np\n",
    "import pandas as pd\n",
    "import tensorflow as tf"
   ]
  },
  {
   "cell_type": "code",
   "execution_count": 2,
   "metadata": {},
   "outputs": [],
   "source": [
    "# inputs\n",
    "xs = np.array([-1.0,  0.0, 1.0, 2.0, 3.0, 4.0], dtype=float)\n",
    "\n",
    "# labels\n",
    "ys = np.array([-3.0, -1.0, 1.0, 3.0, 5.0, 7.0], dtype=float)"
   ]
  },
  {
   "cell_type": "code",
   "execution_count": 8,
   "metadata": {},
   "outputs": [
    {
     "name": "stdout",
     "output_type": "stream",
     "text": [
      "[[18.9853]]\n"
     ]
    }
   ],
   "source": [
    "model = tf.keras.Sequential([\n",
    "    tf.keras.layers.Dense(1,input_shape=[1])\n",
    "])\n",
    "\n",
    "model.compile(optimizer='sgd',loss='mean_squared_error')\n",
    "model.fit(xs,ys,epochs=500,verbose=0)\n",
    "print(model.predict([10.0]))"
   ]
  },
  {
   "cell_type": "markdown",
   "metadata": {},
   "source": [
    "## Huber loss "
   ]
  },
  {
   "cell_type": "code",
   "execution_count": 4,
   "metadata": {},
   "outputs": [],
   "source": [
    "def my_huber_loss(y_true,y_pred):\n",
    "    threshold = 1\n",
    "    error = y_true-y_pred\n",
    "    is_small_error = tf.abs(error)<=threshold\n",
    "    small_error_loss = tf.square(error)/2\n",
    "    big_error_loss = threshold*(tf.abs(error)-(0.5*threshold))\n",
    "    return tf.where(is_small_error,small_error_loss,big_error_loss)"
   ]
  },
  {
   "cell_type": "code",
   "execution_count": 5,
   "metadata": {},
   "outputs": [
    {
     "name": "stdout",
     "output_type": "stream",
     "text": [
      "[[18.74939]]\n"
     ]
    }
   ],
   "source": [
    "model = tf.keras.Sequential([\n",
    "    tf.keras.layers.Dense(1,input_shape=[1])\n",
    "])\n",
    "\n",
    "model.compile(optimizer='sgd',loss=my_huber_loss)\n",
    "model.fit(xs,ys,epochs=500,verbose=0)\n",
    "print(model.predict([10.0]))"
   ]
  },
  {
   "cell_type": "markdown",
   "metadata": {},
   "source": [
    "## Hyperparameters - nested function"
   ]
  },
  {
   "cell_type": "code",
   "execution_count": 6,
   "metadata": {},
   "outputs": [],
   "source": [
    "def my_huber_loss_with_threshold(threshold):\n",
    "    def my_huber_loss(y_true,y_pred):\n",
    "#         threshold = 1\n",
    "        error = y_true-y_pred\n",
    "        is_small_error = tf.abs(error)<=threshold\n",
    "        small_error_loss = tf.square(error)/2\n",
    "        big_error_loss = threshold*(tf.abs(error)-(0.5*threshold))\n",
    "        return tf.where(is_small_error,small_error_loss,big_error_loss)\n",
    "    return my_huber_loss"
   ]
  },
  {
   "cell_type": "code",
   "execution_count": 7,
   "metadata": {},
   "outputs": [
    {
     "name": "stdout",
     "output_type": "stream",
     "text": [
      "[[18.109344]]\n"
     ]
    }
   ],
   "source": [
    "model = tf.keras.Sequential([\n",
    "    tf.keras.layers.Dense(1,input_shape=[1])\n",
    "])\n",
    "\n",
    "model.compile(optimizer='sgd',loss=my_huber_loss_with_threshold(threshold=0.8))\n",
    "model.fit(xs,ys,epochs=500,verbose=0)\n",
    "print(model.predict([10.0]))"
   ]
  },
  {
   "cell_type": "markdown",
   "metadata": {},
   "source": [
    "## Class for loss function"
   ]
  },
  {
   "cell_type": "code",
   "execution_count": 21,
   "metadata": {},
   "outputs": [
    {
     "name": "stdout",
     "output_type": "stream",
     "text": [
      "[[18.966953]]\n"
     ]
    }
   ],
   "source": [
    "from tensorflow.keras.losses import Loss\n",
    "\n",
    "class MyHuberLoss(Loss):\n",
    "    threshold=1\n",
    "    \n",
    "    def __init__(self,threshold):\n",
    "        super().__init__()\n",
    "        self.threshold = threshold\n",
    "        \n",
    "    def call(self,y_true,y_pred):\n",
    "        error = y_true-y_pred\n",
    "        is_small_error = tf.abs(error)<=self.threshold\n",
    "        small_error_loss = tf.square(error)/2\n",
    "        big_error_loss = self.threshold*(tf.abs(error)-(0.5*self.threshold))\n",
    "        return tf.where(is_small_error,small_error_loss,big_error_loss)\n",
    "        \n",
    "model.compile(optimizer='sgd',loss=MyHuberLoss(threshold=0.8))\n",
    "model.fit(xs,ys,epochs=500,verbose=0)\n",
    "print(model.predict([10.0]))    "
   ]
  },
  {
   "cell_type": "markdown",
   "metadata": {},
   "source": [
    "# Contrastive Loss"
   ]
  },
  {
   "cell_type": "code",
   "execution_count": 26,
   "metadata": {},
   "outputs": [],
   "source": [
    "import tensorflow.keras.backend as k\n",
    "def contrastive_loss_with_margin(margin):\n",
    "    def contrastive_loss(y_true,y_pred):\n",
    "#         margin=1\n",
    "        square_pred = tf.square(y_pred)\n",
    "        margin_square = tf.square(tf.maximum(margin-y_pred,0))\n",
    "        return k.mean(y_true*square_pred+(1-y_true)*margin_square)\n",
    "    return contrastive_loss"
   ]
  },
  {
   "cell_type": "code",
   "execution_count": 29,
   "metadata": {},
   "outputs": [
    {
     "name": "stdout",
     "output_type": "stream",
     "text": [
      "[[-27809772.]]\n"
     ]
    }
   ],
   "source": [
    "from tensorflow.keras.losses import Loss\n",
    "\n",
    "class contrastive_loss(Loss):\n",
    "    margin=1\n",
    "    \n",
    "    def __init__(self,margin):\n",
    "        super().__init__()\n",
    "        self.margin = margin\n",
    "        \n",
    "    def call(self,y_true,y_pred):\n",
    "        square_pred = tf.square(y_pred)\n",
    "        margin_square = tf.square(tf.maximum(self.margin-y_pred,0))\n",
    "        return k.mean(y_true*square_pred+(1-y_true)*margin_square)\n",
    "        \n",
    "model.compile(optimizer='sgd',loss=contrastive_loss(margin=0.8))\n",
    "model.fit(xs,ys,epochs=500,verbose=0)\n",
    "print(model.predict([10.0]))   "
   ]
  },
  {
   "cell_type": "markdown",
   "metadata": {},
   "source": [
    "# Lambda Layer"
   ]
  },
  {
   "cell_type": "code",
   "execution_count": 30,
   "metadata": {},
   "outputs": [],
   "source": [
    "%reset -f\n",
    "import numpy as np\n",
    "import pandas as pd\n",
    "import tensorflow as tf\n",
    "\n",
    "from tensorflow.keras.datasets import fashion_mnist"
   ]
  },
  {
   "cell_type": "code",
   "execution_count": 31,
   "metadata": {},
   "outputs": [],
   "source": [
    "# load the dataset\n",
    "(train_images, train_labels), (test_images, test_labels) = fashion_mnist.load_data()\n",
    "\n",
    "# prepare train and test sets\n",
    "train_images = train_images.astype('float32')\n",
    "test_images = test_images.astype('float32')\n",
    "\n",
    "# normalize values\n",
    "train_images = train_images / 255.0\n",
    "test_images = test_images / 255.0"
   ]
  },
  {
   "cell_type": "code",
   "execution_count": 33,
   "metadata": {},
   "outputs": [
    {
     "name": "stdout",
     "output_type": "stream",
     "text": [
      "Train on 60000 samples\n",
      "Epoch 1/10\n",
      "60000/60000 - 4s - loss: 0.4984 - accuracy: 0.8249\n",
      "Epoch 2/10\n",
      "60000/60000 - 3s - loss: 0.3737 - accuracy: 0.8654\n",
      "Epoch 3/10\n",
      "60000/60000 - 3s - loss: 0.3366 - accuracy: 0.8781\n",
      "Epoch 4/10\n",
      "60000/60000 - 3s - loss: 0.3103 - accuracy: 0.8863\n",
      "Epoch 5/10\n",
      "60000/60000 - 3s - loss: 0.2957 - accuracy: 0.8924\n",
      "Epoch 6/10\n",
      "60000/60000 - 3s - loss: 0.2802 - accuracy: 0.8971\n",
      "Epoch 7/10\n",
      "60000/60000 - 3s - loss: 0.2686 - accuracy: 0.9002\n",
      "Epoch 8/10\n",
      "60000/60000 - 3s - loss: 0.2598 - accuracy: 0.9038\n",
      "Epoch 9/10\n",
      "60000/60000 - 3s - loss: 0.2508 - accuracy: 0.9066\n",
      "Epoch 10/10\n",
      "60000/60000 - 3s - loss: 0.2406 - accuracy: 0.9092\n"
     ]
    },
    {
     "data": {
      "text/plain": [
       "<tensorflow.python.keras.callbacks.History at 0x29453011160>"
      ]
     },
     "execution_count": 33,
     "metadata": {},
     "output_type": "execute_result"
    }
   ],
   "source": [
    "model = tf.keras.models.Sequential([tf.keras.layers.Flatten(input_shape=(28,28)),\n",
    "                                    tf.keras.layers.Dense(128,activation='relu'),\n",
    "                                    tf.keras.layers.Dense(10, activation=tf.nn.softmax)])\n",
    "\n",
    "model.compile(optimizer='adam',\n",
    "              loss='sparse_categorical_crossentropy',\n",
    "              metrics=['accuracy'])\n",
    "\n",
    "model.fit(train_images, train_labels, epochs=10,verbose=2)"
   ]
  },
  {
   "cell_type": "code",
   "execution_count": 34,
   "metadata": {},
   "outputs": [
    {
     "name": "stdout",
     "output_type": "stream",
     "text": [
      "Train on 60000 samples\n",
      "Epoch 1/10\n",
      "60000/60000 - 4s - loss: 0.5340 - accuracy: 0.8135\n",
      "Epoch 2/10\n",
      "60000/60000 - 3s - loss: 0.4580 - accuracy: 0.8406\n",
      "Epoch 3/10\n",
      "60000/60000 - 3s - loss: 0.4404 - accuracy: 0.8456\n",
      "Epoch 4/10\n",
      "60000/60000 - 3s - loss: 0.4302 - accuracy: 0.8495\n",
      "Epoch 5/10\n",
      "60000/60000 - 3s - loss: 0.4229 - accuracy: 0.8528\n",
      "Epoch 6/10\n",
      "60000/60000 - 3s - loss: 0.4197 - accuracy: 0.8531\n",
      "Epoch 7/10\n",
      "60000/60000 - 3s - loss: 0.4137 - accuracy: 0.8548\n",
      "Epoch 8/10\n",
      "60000/60000 - 3s - loss: 0.4103 - accuracy: 0.8549\n",
      "Epoch 9/10\n",
      "60000/60000 - 3s - loss: 0.4058 - accuracy: 0.8577\n",
      "Epoch 10/10\n",
      "60000/60000 - 3s - loss: 0.4050 - accuracy: 0.8582\n"
     ]
    },
    {
     "data": {
      "text/plain": [
       "<tensorflow.python.keras.callbacks.History at 0x29454811518>"
      ]
     },
     "execution_count": 34,
     "metadata": {},
     "output_type": "execute_result"
    }
   ],
   "source": [
    "# Relu activation removed from 1st layer, degrades the accuracy\n",
    "model = tf.keras.models.Sequential([tf.keras.layers.Flatten(input_shape=(28,28)),\n",
    "                                    tf.keras.layers.Dense(128),\n",
    "                                    tf.keras.layers.Dense(10, activation=tf.nn.softmax)])\n",
    "\n",
    "model.compile(optimizer='adam',\n",
    "              loss='sparse_categorical_crossentropy',\n",
    "              metrics=['accuracy'])\n",
    "\n",
    "model.fit(train_images, train_labels, epochs=10,verbose=2)"
   ]
  },
  {
   "cell_type": "code",
   "execution_count": 35,
   "metadata": {},
   "outputs": [
    {
     "name": "stdout",
     "output_type": "stream",
     "text": [
      "Train on 60000 samples\n",
      "Epoch 1/10\n",
      "60000/60000 - 4s - loss: 0.5151 - accuracy: 0.8230\n",
      "Epoch 2/10\n",
      "60000/60000 - 3s - loss: 0.3913 - accuracy: 0.8615\n",
      "Epoch 3/10\n",
      "60000/60000 - 4s - loss: 0.3558 - accuracy: 0.8724\n",
      "Epoch 4/10\n",
      "60000/60000 - 3s - loss: 0.3314 - accuracy: 0.8806\n",
      "Epoch 5/10\n",
      "60000/60000 - 3s - loss: 0.3151 - accuracy: 0.8867\n",
      "Epoch 6/10\n",
      "60000/60000 - 3s - loss: 0.3002 - accuracy: 0.8921\n",
      "Epoch 7/10\n",
      "60000/60000 - 3s - loss: 0.2868 - accuracy: 0.8967\n",
      "Epoch 8/10\n",
      "60000/60000 - 3s - loss: 0.2776 - accuracy: 0.8989\n",
      "Epoch 9/10\n",
      "60000/60000 - 3s - loss: 0.2691 - accuracy: 0.9017\n",
      "Epoch 10/10\n",
      "60000/60000 - 3s - loss: 0.2635 - accuracy: 0.9039\n"
     ]
    },
    {
     "data": {
      "text/plain": [
       "<tensorflow.python.keras.callbacks.History at 0x29452802748>"
      ]
     },
     "execution_count": 35,
     "metadata": {},
     "output_type": "execute_result"
    }
   ],
   "source": [
    "# Adding a custom layer instead of Relu improves the performance\n",
    "model = tf.keras.models.Sequential([tf.keras.layers.Flatten(input_shape=(28,28)),\n",
    "                                    tf.keras.layers.Dense(128),\n",
    "                                    tf.keras.layers.Lambda(lambda x:tf.abs(x)),\n",
    "                                    tf.keras.layers.Dense(10, activation=tf.nn.softmax)])\n",
    "\n",
    "model.compile(optimizer='adam',\n",
    "              loss='sparse_categorical_crossentropy',\n",
    "              metrics=['accuracy'])\n",
    "\n",
    "model.fit(train_images, train_labels, epochs=10,verbose=2)"
   ]
  },
  {
   "cell_type": "markdown",
   "metadata": {},
   "source": [
    "## Modified Relu"
   ]
  },
  {
   "cell_type": "code",
   "execution_count": 40,
   "metadata": {},
   "outputs": [],
   "source": [
    "import tensorflow.keras.backend as K\n",
    "def my_relu(x):\n",
    "    return K.maximum(-0.5,x)"
   ]
  },
  {
   "cell_type": "code",
   "execution_count": 41,
   "metadata": {},
   "outputs": [
    {
     "name": "stdout",
     "output_type": "stream",
     "text": [
      "Train on 60000 samples\n",
      "Epoch 1/10\n",
      "60000/60000 - 5s - loss: 0.4867 - accuracy: 0.8260\n",
      "Epoch 2/10\n",
      "60000/60000 - 5s - loss: 0.3710 - accuracy: 0.8646\n",
      "Epoch 3/10\n",
      "60000/60000 - 5s - loss: 0.3339 - accuracy: 0.8769\n",
      "Epoch 4/10\n",
      "60000/60000 - 5s - loss: 0.3100 - accuracy: 0.8853\n",
      "Epoch 5/10\n",
      "60000/60000 - 5s - loss: 0.2930 - accuracy: 0.8906\n",
      "Epoch 6/10\n",
      "60000/60000 - 5s - loss: 0.2793 - accuracy: 0.8955\n",
      "Epoch 7/10\n",
      "60000/60000 - 5s - loss: 0.2671 - accuracy: 0.8997\n",
      "Epoch 8/10\n",
      "60000/60000 - 5s - loss: 0.2546 - accuracy: 0.9054\n",
      "Epoch 9/10\n",
      "60000/60000 - 5s - loss: 0.2463 - accuracy: 0.9089\n",
      "Epoch 10/10\n",
      "60000/60000 - 5s - loss: 0.2354 - accuracy: 0.9108\n"
     ]
    },
    {
     "data": {
      "text/plain": [
       "<tensorflow.python.keras.callbacks.History at 0x29453c6bac8>"
      ]
     },
     "execution_count": 41,
     "metadata": {},
     "output_type": "execute_result"
    }
   ],
   "source": [
    "model = tf.keras.models.Sequential([tf.keras.layers.Flatten(input_shape=(28,28)),\n",
    "                                    tf.keras.layers.Dense(128),\n",
    "                                    tf.keras.layers.Lambda(my_relu),\n",
    "                                    tf.keras.layers.Dense(10, activation=tf.nn.softmax)])\n",
    "\n",
    "model.compile(optimizer='adam',\n",
    "              loss='sparse_categorical_crossentropy',\n",
    "              metrics=['accuracy'])\n",
    "\n",
    "model.fit(train_images, train_labels, epochs=10,verbose=2)"
   ]
  },
  {
   "cell_type": "markdown",
   "metadata": {},
   "source": [
    "# Custom Layer - That are trainable"
   ]
  },
  {
   "cell_type": "code",
   "execution_count": 46,
   "metadata": {},
   "outputs": [],
   "source": [
    "# Inherit from keras Layer\n",
    "# initialize with __init__\n",
    "# build method for weights and bias initialization\n",
    "# call method for computaion from input to output\n",
    "\n",
    "from tensorflow.keras.layers import Layer\n",
    "\n",
    "class SimpleDense(Layer):\n",
    "\n",
    "    def __init__(self,units=32,activation=None):\n",
    "        super(SimpleDense,self).__init__()\n",
    "        self.units=units\n",
    "        self.activation = tf.keras.activations.get(activation)\n",
    "        \n",
    "        \n",
    "    def build(self, input_shape):\n",
    "        '''Create the state of the layer (weights)'''\n",
    "        # initialize the weights\n",
    "        w_init = tf.random_normal_initializer()\n",
    "        self.w = tf.Variable(name=\"kernel\",\n",
    "            initial_value=w_init(shape=(input_shape[-1], self.units),\n",
    "                                 dtype='float32'),\n",
    "            trainable=True)\n",
    "\n",
    "        # initialize the biases\n",
    "        b_init = tf.zeros_initializer()\n",
    "        self.b = tf.Variable(name=\"bias\",\n",
    "            initial_value=b_init(shape=(self.units,), dtype='float32'),\n",
    "            trainable=True)\n",
    "\n",
    "    def call(self, inputs):\n",
    "        '''Defines the computation from inputs to outputs'''\n",
    "        return self.activation(tf.matmul(inputs, self.w) + self.b)"
   ]
  },
  {
   "cell_type": "code",
   "execution_count": 47,
   "metadata": {},
   "outputs": [
    {
     "name": "stdout",
     "output_type": "stream",
     "text": [
      "[<tf.Variable 'simple_dense_2/kernel:0' shape=(1, 1) dtype=float32, numpy=array([[0.03428066]], dtype=float32)>, <tf.Variable 'simple_dense_2/bias:0' shape=(1,) dtype=float32, numpy=array([0.], dtype=float32)>]\n"
     ]
    }
   ],
   "source": [
    "# declare an instance of the class\n",
    "my_dense = SimpleDense(units=1)\n",
    "\n",
    "# define an input and feed into the layer\n",
    "x = tf.ones((1, 1))\n",
    "y = my_dense(x)\n",
    "\n",
    "# parameters of the base Layer class like `variables` can be used\n",
    "print(my_dense.variables)"
   ]
  },
  {
   "cell_type": "code",
   "execution_count": 50,
   "metadata": {},
   "outputs": [
    {
     "name": "stdout",
     "output_type": "stream",
     "text": [
      "[[17.9529]]\n",
      "[<tf.Variable 'sequential_19/simple_dense_5/kernel:0' shape=(1, 1) dtype=float32, numpy=array([[1.851683]], dtype=float32)>, <tf.Variable 'sequential_19/simple_dense_5/bias:0' shape=(1,) dtype=float32, numpy=array([-0.5639308], dtype=float32)>]\n"
     ]
    }
   ],
   "source": [
    "# define the dataset\n",
    "xs = np.array([-1.0,  0.0, 1.0, 2.0, 3.0, 4.0], dtype=float)\n",
    "ys = np.array([-3.0, -1.0, 1.0, 3.0, 5.0, 7.0], dtype=float)\n",
    "\n",
    "\n",
    "# use the Sequential API to build a model with our custom layer\n",
    "my_layer = SimpleDense(units=1,activation='relu')\n",
    "model = tf.keras.Sequential([my_layer])\n",
    "\n",
    "# configure and train the model\n",
    "model.compile(optimizer='sgd', loss='mean_squared_error')\n",
    "model.fit(xs, ys, epochs=500,verbose=0)\n",
    "\n",
    "# perform inference\n",
    "print(model.predict([10.0]))\n",
    "\n",
    "# see the updated state of the variables\n",
    "print(my_layer.variables)"
   ]
  },
  {
   "cell_type": "markdown",
   "metadata": {},
   "source": [
    "# Custom Model"
   ]
  },
  {
   "cell_type": "code",
   "execution_count": 1,
   "metadata": {},
   "outputs": [
    {
     "name": "stdout",
     "output_type": "stream",
     "text": [
      "Train on 60000 samples\n",
      "Epoch 1/10\n",
      "60000/60000 [==============================] - 21s 355us/sample - loss: 0.4978 - accuracy: 0.8255\n",
      "Epoch 2/10\n",
      "60000/60000 [==============================] - 19s 316us/sample - loss: 0.3779 - accuracy: 0.8641\n",
      "Epoch 3/10\n",
      "60000/60000 [==============================] - 16s 265us/sample - loss: 0.3366 - accuracy: 0.8770\n",
      "Epoch 4/10\n",
      "60000/60000 [==============================] - 17s 281us/sample - loss: 0.3139 - accuracy: 0.8845\n",
      "Epoch 5/10\n",
      "60000/60000 [==============================] - 15s 249us/sample - loss: 0.2970 - accuracy: 0.8905\n",
      "Epoch 6/10\n",
      "60000/60000 [==============================] - 13s 208us/sample - loss: 0.2809 - accuracy: 0.8957\n",
      "Epoch 7/10\n",
      "60000/60000 [==============================] - 3s 56us/sample - loss: 0.2674 - accuracy: 0.9011\n",
      "Epoch 8/10\n",
      "60000/60000 [==============================] - 3s 54us/sample - loss: 0.2572 - accuracy: 0.9033\n",
      "Epoch 9/10\n",
      "60000/60000 [==============================] - 3s 53us/sample - loss: 0.2458 - accuracy: 0.9083\n",
      "Epoch 10/10\n",
      "60000/60000 [==============================] - 3s 52us/sample - loss: 0.2388 - accuracy: 0.9115\n"
     ]
    }
   ],
   "source": [
    "%reset -f\n",
    "import tensorflow as tf\n",
    "from tensorflow.keras import backend as K\n",
    "\n",
    "data = tf.keras.datasets.fashion_mnist\n",
    "\n",
    "(training_images, training_labels), (test_images, test_labels) = data.load_data()\n",
    "\n",
    "training_images  = training_images / 255.0\n",
    "test_images = test_images / 255.0\n",
    "\n",
    "\n",
    "\n",
    "class MNISTNetwork(tf.keras.Model):\n",
    "    def __init__(self,**kwargs):\n",
    "        super(MNISTNetwork,self).__init__(**kwargs)\n",
    "        self.flatten = tf.keras.layers.Flatten()\n",
    "        self.Dense1 = tf.keras.layers.Dense(128,activation='relu')\n",
    "        self.classification = tf.keras.layers.Dense(10,activation='softmax')\n",
    "    def call(self,inputs):\n",
    "        input_a = inputs\n",
    "        x = self.flatten(input_a)\n",
    "        x = self.Dense1(x)\n",
    "        outputs = self.classification(x)\n",
    "        \n",
    "        return outputs\n",
    "\n",
    "    \n",
    "    \n",
    "model = MNISTNetwork()      \n",
    "\n",
    "\n",
    "model.compile(optimizer='adam',\n",
    "              loss=\"sparse_categorical_crossentropy\",\n",
    "              metrics=['accuracy'])\n",
    "\n",
    "\n",
    "\n",
    "history = model.fit(training_images, training_labels, epochs=10)"
   ]
  },
  {
   "cell_type": "code",
   "execution_count": null,
   "metadata": {},
   "outputs": [],
   "source": []
  }
 ],
 "metadata": {
  "kernelspec": {
   "display_name": "Python 3",
   "language": "python",
   "name": "python3"
  },
  "language_info": {
   "codemirror_mode": {
    "name": "ipython",
    "version": 3
   },
   "file_extension": ".py",
   "mimetype": "text/x-python",
   "name": "python",
   "nbconvert_exporter": "python",
   "pygments_lexer": "ipython3",
   "version": "3.7.0"
  }
 },
 "nbformat": 4,
 "nbformat_minor": 4
}
