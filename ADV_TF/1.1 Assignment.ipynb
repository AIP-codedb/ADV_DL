{
 "cells": [
  {
   "cell_type": "markdown",
   "metadata": {
    "colab_type": "text",
    "id": "ZL_6GK8qX35J"
   },
   "source": [
    "\n",
    "\n",
    "# Week 1: Multiple Output Models using the Keras Functional API\n",
    "\n",
    "Welcome to the first programming assignment of the course! Your task will be to use the Keras functional API to train a model to predict two outputs. For this lab, you will use the **[Wine Quality Dataset](https://archive.ics.uci.edu/ml/datasets/Wine+Quality)** from the **UCI machine learning repository**. It has separate datasets for red wine and white wine.\n",
    "\n",
    "Normally, the wines are classified into one of the quality ratings specified in the attributes. In this exercise, you will combine the two datasets to predict the wine quality and whether the wine is red or white solely from the attributes. \n",
    "\n",
    "You will model wine quality estimations as a regression problem and wine type detection as a binary classification problem.\n",
    "\n",
    "#### Please complete sections that are marked **(TODO)**"
   ]
  },
  {
   "cell_type": "markdown",
   "metadata": {
    "colab_type": "text",
    "id": "obdcD6urYBY9"
   },
   "source": [
    "## Imports"
   ]
  },
  {
   "cell_type": "code",
   "execution_count": 2,
   "metadata": {
    "colab": {},
    "colab_type": "code",
    "id": "t8N3pcTQ5oQI"
   },
   "outputs": [],
   "source": [
    "import tensorflow as tf\n",
    "from tensorflow.keras.models import Model\n",
    "from tensorflow.keras.layers import Dense, Input\n",
    "\n",
    "import numpy as np\n",
    "import matplotlib.pyplot as plt\n",
    "import pandas as pd\n",
    "from sklearn.model_selection import train_test_split\n",
    "from sklearn.metrics import confusion_matrix\n",
    "import itertools\n",
    "import C1W1utils as utils"
   ]
  },
  {
   "cell_type": "markdown",
   "metadata": {
    "colab_type": "text",
    "id": "gQMERzWQYpgm"
   },
   "source": [
    "## Load Dataset\n",
    "\n",
    "\n",
    "You will now download the dataset from the [UCI Machine Learning Repository](https://archive.ics.uci.edu/ml/index.php). \n",
    "\n",
    "### Pre-process the white wine dataset (TODO)\n",
    "You will add a new column named `is_red` in your dataframe to indicate if the wine is white or red. \n",
    "- In the white wine dataset, you will fill the column `is_red` with  zeros (0)."
   ]
  },
  {
   "cell_type": "code",
   "execution_count": 3,
   "metadata": {
    "colab": {},
    "colab_type": "code",
    "deletable": false,
    "id": "2qYAjKXCd4RH",
    "nbgrader": {
     "cell_type": "code",
     "checksum": "cb9f284ba6255170fe04a309a407d72d",
     "grade": false,
     "grade_id": "cell-e5bfa0f152d9a21f",
     "locked": false,
     "schema_version": 3,
     "solution": true,
     "task": false
    }
   },
   "outputs": [],
   "source": [
    "# Please uncomment all lines in this cell and replace those marked with `# YOUR CODE HERE`.\n",
    "# You can select all lines in this code cell with Ctrl+A (Windows/Linux) or Cmd+A (Mac), then press Ctrl+/ (Windows/Linux) or Cmd+/ (Mac) to uncomment.\n",
    "\n",
    "\n",
    "\n",
    "# URL of the white wine dataset\n",
    "URL = 'http://archive.ics.uci.edu/ml/machine-learning-databases/wine-quality/winequality-white.csv'\n",
    "\n",
    "# load the dataset from the URL\n",
    "white_df = pd.read_csv(URL, sep=\";\")\n",
    "\n",
    "# fill the `is_red` column with zeros.\n",
    "white_df[\"is_red\"] = 0\n",
    "\n",
    "# keep only the first of duplicate items\n",
    "white_df = white_df.drop_duplicates(keep='first')\n"
   ]
  },
  {
   "cell_type": "code",
   "execution_count": 4,
   "metadata": {
    "deletable": false,
    "editable": false,
    "nbgrader": {
     "cell_type": "code",
     "checksum": "defe38d6ec58fd31cd67b89e46c4373f",
     "grade": true,
     "grade_id": "cell-30575e713b55fc51",
     "locked": true,
     "points": 1,
     "schema_version": 3,
     "solution": false,
     "task": false
    }
   },
   "outputs": [
    {
     "name": "stdout",
     "output_type": "stream",
     "text": [
      "\u001b[92m All public tests passed\n"
     ]
    }
   ],
   "source": [
    "# You can click `File -> Open` in the menu above and open the `utils.py` file \n",
    "# in case you want to inspect the unit tests being used for each graded function.\n",
    "\n",
    "utils.test_white_df(white_df)\n"
   ]
  },
  {
   "cell_type": "code",
   "execution_count": 5,
   "metadata": {
    "colab": {},
    "colab_type": "code",
    "id": "OQHK0ohBQRCk"
   },
   "outputs": [
    {
     "name": "stdout",
     "output_type": "stream",
     "text": [
      "8.8\n",
      "9.1\n"
     ]
    }
   ],
   "source": [
    "print(white_df.alcohol[0])\n",
    "print(white_df.alcohol[100])\n",
    "\n",
    "# EXPECTED OUTPUT\n",
    "# 8.8\n",
    "# 9.1"
   ]
  },
  {
   "cell_type": "markdown",
   "metadata": {},
   "source": [
    "### Pre-process the red wine dataset (TODO)\n",
    "- In the red wine dataset, you will fill in the column `is_red` with ones (1)."
   ]
  },
  {
   "cell_type": "code",
   "execution_count": 6,
   "metadata": {
    "colab": {},
    "colab_type": "code",
    "deletable": false,
    "id": "8y3QxKwBed8v",
    "nbgrader": {
     "cell_type": "code",
     "checksum": "be72275f78e2c2d0038dde9aa63f8d4f",
     "grade": false,
     "grade_id": "cell-e47a40f306593274",
     "locked": false,
     "schema_version": 3,
     "solution": true,
     "task": false
    }
   },
   "outputs": [],
   "source": [
    "# Please uncomment all lines in this cell and replace those marked with `# YOUR CODE HERE`.\n",
    "# You can select all lines in this code cell with Ctrl+A (Windows/Linux) or Cmd+A (Mac), then press Ctrl+/ (Windows/Linux) or Cmd+/ (Mac) to uncomment.\n",
    "\n",
    "\n",
    "\n",
    "# URL of the red wine dataset\n",
    "URL = 'http://archive.ics.uci.edu/ml/machine-learning-databases/wine-quality/winequality-red.csv'\n",
    "\n",
    "# load the dataset from the URL\n",
    "red_df = pd.read_csv(URL, sep=\";\")\n",
    "\n",
    "# fill the `is_red` column with ones.\n",
    "red_df[\"is_red\"] = 1\n",
    "\n",
    "# keep only the first of duplicate items\n",
    "red_df = red_df.drop_duplicates(keep='first')\n"
   ]
  },
  {
   "cell_type": "code",
   "execution_count": 7,
   "metadata": {
    "deletable": false,
    "editable": false,
    "nbgrader": {
     "cell_type": "code",
     "checksum": "d8e0c91b0fd668b63ba74a8f2f958b59",
     "grade": true,
     "grade_id": "cell-2a75937adcc0c25b",
     "locked": true,
     "points": 1,
     "schema_version": 3,
     "solution": false,
     "task": false
    }
   },
   "outputs": [
    {
     "name": "stdout",
     "output_type": "stream",
     "text": [
      "\u001b[92m All public tests passed\n"
     ]
    }
   ],
   "source": [
    "utils.test_red_df(red_df)\n"
   ]
  },
  {
   "cell_type": "code",
   "execution_count": 8,
   "metadata": {
    "colab": {},
    "colab_type": "code",
    "id": "zsB3LUzNQpo_"
   },
   "outputs": [
    {
     "name": "stdout",
     "output_type": "stream",
     "text": [
      "9.4\n",
      "10.2\n"
     ]
    }
   ],
   "source": [
    "print(red_df.alcohol[0])\n",
    "print(red_df.alcohol[100])\n",
    "\n",
    "# EXPECTED OUTPUT\n",
    "# 9.4\n",
    "# 10.2"
   ]
  },
  {
   "cell_type": "markdown",
   "metadata": {
    "colab_type": "text",
    "id": "2G8B-NYuM6-f"
   },
   "source": [
    "### Concatenate the datasets\n",
    "\n",
    "Next, concatenate the red and white wine dataframes."
   ]
  },
  {
   "cell_type": "code",
   "execution_count": 9,
   "metadata": {
    "colab": {},
    "colab_type": "code",
    "id": "YpQrOjJbfN3m"
   },
   "outputs": [],
   "source": [
    "df = pd.concat([red_df, white_df], ignore_index=True)"
   ]
  },
  {
   "cell_type": "code",
   "execution_count": 10,
   "metadata": {
    "colab": {},
    "colab_type": "code",
    "id": "Se2dTmThQyjb"
   },
   "outputs": [
    {
     "name": "stdout",
     "output_type": "stream",
     "text": [
      "9.4\n",
      "9.5\n"
     ]
    }
   ],
   "source": [
    "print(df.alcohol[0])\n",
    "print(df.alcohol[100])\n",
    "\n",
    "# EXPECTED OUTPUT\n",
    "# 9.4\n",
    "# 9.5"
   ]
  },
  {
   "cell_type": "code",
   "execution_count": 11,
   "metadata": {
    "colab": {},
    "colab_type": "code",
    "id": "wx6y3rPpQv4k"
   },
   "outputs": [],
   "source": [
    "# NOTE: In a real-world scenario, you should shuffle the data.\n",
    "# YOU ARE NOT going to do that here because we want to test\n",
    "# with deterministic data. But if you want the code to do it,\n",
    "# it's in the commented line below:\n",
    "\n",
    "#df = df.iloc[np.random.permutation(len(df))]"
   ]
  },
  {
   "cell_type": "markdown",
   "metadata": {
    "colab_type": "text",
    "id": "-EqIcbg5M_n1"
   },
   "source": [
    "This will chart the quality of the wines."
   ]
  },
  {
   "cell_type": "code",
   "execution_count": 12,
   "metadata": {
    "colab": {},
    "colab_type": "code",
    "id": "IsvK0-Sgy17C"
   },
   "outputs": [
    {
     "data": {
      "image/png": "[encoded data removed]",
      "text/plain": [
       "<Figure size 432x288 with 1 Axes>"
      ]
     },
     "metadata": {
      "needs_background": "light"
     },
     "output_type": "display_data"
    }
   ],
   "source": [
    "df['quality'].hist(bins=20);"
   ]
  },
  {
   "cell_type": "markdown",
   "metadata": {
    "colab_type": "text",
    "id": "Nut1rmYLzf-p"
   },
   "source": [
    "### Imbalanced data (TODO)\n",
    "You can see from the plot above that the wine quality dataset is imbalanced. \n",
    "- Since there are very few observations with quality equal to 3, 4, 8 and 9, you can drop these observations from your dataset. \n",
    "- You can do this by removing data belonging to all classes except those > 4 and < 8."
   ]
  },
  {
   "cell_type": "code",
   "execution_count": 13,
   "metadata": {
    "colab": {},
    "colab_type": "code",
    "deletable": false,
    "id": "doH9_-gnf3sz",
    "nbgrader": {
     "cell_type": "code",
     "checksum": "d9ba9fc3a3ca02ccc567be33652b80fe",
     "grade": false,
     "grade_id": "cell-6a3e9db696f6827b",
     "locked": false,
     "schema_version": 3,
     "solution": true,
     "task": false
    }
   },
   "outputs": [],
   "source": [
    "# Please uncomment all lines in this cell and replace those marked with `# YOUR CODE HERE`.\n",
    "# You can select all lines in this code cell with Ctrl+A (Windows/Linux) or Cmd+A (Mac), then press Ctrl+/ (Windows/Linux) or Cmd+/ (Mac) to uncomment.\n",
    "\n",
    "\n",
    "\n",
    "# get data with wine quality greater than 4 and less than 8\n",
    "df = df[(df['quality'] > 4) & (df['quality'] < 8 )]\n",
    "\n",
    "# reset index and drop the old one\n",
    "df = df.reset_index(drop=True)"
   ]
  },
  {
   "cell_type": "code",
   "execution_count": 14,
   "metadata": {
    "deletable": false,
    "editable": false,
    "nbgrader": {
     "cell_type": "code",
     "checksum": "281e1d86a4803560ed5892cd7eda4c01",
     "grade": true,
     "grade_id": "cell-aed3da719d4682c7",
     "locked": true,
     "points": 1,
     "schema_version": 3,
     "solution": false,
     "task": false
    }
   },
   "outputs": [
    {
     "name": "stdout",
     "output_type": "stream",
     "text": [
      "\u001b[92m All public tests passed\n"
     ]
    }
   ],
   "source": [
    "utils.test_df_drop(df)\n",
    "\n"
   ]
  },
  {
   "cell_type": "code",
   "execution_count": 15,
   "metadata": {
    "colab": {},
    "colab_type": "code",
    "id": "xNR1iAlMRPXO"
   },
   "outputs": [
    {
     "name": "stdout",
     "output_type": "stream",
     "text": [
      "9.4\n",
      "10.9\n"
     ]
    }
   ],
   "source": [
    "print(df.alcohol[0])\n",
    "print(df.alcohol[100])\n",
    "\n",
    "# EXPECTED OUTPUT\n",
    "# 9.4\n",
    "# 10.9"
   ]
  },
  {
   "cell_type": "markdown",
   "metadata": {
    "colab_type": "text",
    "id": "cwhuRpnVRTzG"
   },
   "source": [
    "You can plot again to see the new range of data and quality"
   ]
  },
  {
   "cell_type": "code",
   "execution_count": 16,
   "metadata": {
    "colab": {},
    "colab_type": "code",
    "id": "857ygzZiLgGg"
   },
   "outputs": [
    {
     "data": {
      "image/png": "[encoded data removed]",
      "text/plain": [
       "<Figure size 432x288 with 1 Axes>"
      ]
     },
     "metadata": {
      "needs_background": "light"
     },
     "output_type": "display_data"
    }
   ],
   "source": [
    "df['quality'].hist(bins=20);"
   ]
  },
  {
   "cell_type": "markdown",
   "metadata": {
    "colab_type": "text",
    "id": "n3k0vqSsp84t"
   },
   "source": [
    "### Train Test Split (TODO)\n",
    "\n",
    "Next, you can split the datasets into training, test and validation datasets.\n",
    "- The data frame should be split 80:20 into `train` and `test` sets.\n",
    "- The resulting `train` should then be split 80:20 into `train` and `val` sets.\n",
    "- The `train_test_split` parameter `test_size` takes a float value that ranges between 0. and 1, and represents the proportion of the dataset that is allocated to the test set.  The rest of the data is allocated to the training set."
   ]
  },
  {
   "cell_type": "code",
   "execution_count": 17,
   "metadata": {
    "colab": {},
    "colab_type": "code",
    "deletable": false,
    "id": "PAVIf2-fgRVY",
    "nbgrader": {
     "cell_type": "code",
     "checksum": "7f5738f4fb51d65adc9a8acbdf2b9970",
     "grade": false,
     "grade_id": "cell-91946cadf745206b",
     "locked": false,
     "schema_version": 3,
     "solution": true,
     "task": false
    }
   },
   "outputs": [],
   "source": [
    "# Please uncomment all lines in this cell and replace those marked with `# YOUR CODE HERE`.\n",
    "# You can select all lines in this code cell with Ctrl+A (Windows/Linux) or Cmd+A (Mac), then press Ctrl+/ (Windows/Linux) or Cmd+/ (Mac) to uncomment.\n",
    "\n",
    "\n",
    "\n",
    "# Please do not change the random_state parameter. This is needed for grading.\n",
    "\n",
    "# split df into 80:20 train and test sets\n",
    "train, test = train_test_split(df, test_size=0.2, random_state = 1)\n",
    "                               \n",
    "# split train into 80:20 train and val sets\n",
    "train, val = train_test_split(train, test_size=0.2, random_state = 1)"
   ]
  },
  {
   "cell_type": "code",
   "execution_count": 18,
   "metadata": {
    "colab": {},
    "colab_type": "code",
    "deletable": false,
    "editable": false,
    "id": "57h9LcEzRWpk",
    "nbgrader": {
     "cell_type": "code",
     "checksum": "42adbe9e66efac7c7a5f8cd73ac92f22",
     "grade": true,
     "grade_id": "cell-64b8b38cd0b965f6",
     "locked": true,
     "points": 1,
     "schema_version": 3,
     "solution": false,
     "task": false
    }
   },
   "outputs": [
    {
     "name": "stdout",
     "output_type": "stream",
     "text": [
      "\u001b[92m All public tests passed\n"
     ]
    }
   ],
   "source": [
    "utils.test_data_sizes(train.size, test.size, val.size)\n",
    "\n"
   ]
  },
  {
   "cell_type": "markdown",
   "metadata": {
    "colab_type": "text",
    "id": "RwTNu4KFqG-K"
   },
   "source": [
    "Here's where you can explore the training stats. You can pop the labels 'is_red' and 'quality' from the data as these will be used as the labels\n"
   ]
  },
  {
   "cell_type": "code",
   "execution_count": 19,
   "metadata": {
    "colab": {},
    "colab_type": "code",
    "id": "Y_afyhhHM6WQ"
   },
   "outputs": [],
   "source": [
    "train_stats = train.describe()\n",
    "train_stats.pop('is_red')\n",
    "train_stats.pop('quality')\n",
    "train_stats = train_stats.transpose()"
   ]
  },
  {
   "cell_type": "markdown",
   "metadata": {
    "colab_type": "text",
    "id": "ahvbYm4fNqSt"
   },
   "source": [
    "Explore the training stats!"
   ]
  },
  {
   "cell_type": "code",
   "execution_count": 20,
   "metadata": {
    "colab": {},
    "colab_type": "code",
    "id": "n_gAtPjZ0otF"
   },
   "outputs": [
    {
     "data": {
      "text/html": [
       "<div>\n",
       "<style scoped>\n",
       "    .dataframe tbody tr th:only-of-type {\n",
       "        vertical-align: middle;\n",
       "    }\n",
       "\n",
       "    .dataframe tbody tr th {\n",
       "        vertical-align: top;\n",
       "    }\n",
       "\n",
       "    .dataframe thead th {\n",
       "        text-align: right;\n",
       "    }\n",
       "</style>\n",
       "<table border=\"1\" class=\"dataframe\">\n",
       "  <thead>\n",
       "    <tr style=\"text-align: right;\">\n",
       "      <th></th>\n",
       "      <th>count</th>\n",
       "      <th>mean</th>\n",
       "      <th>std</th>\n",
       "      <th>min</th>\n",
       "      <th>25%</th>\n",
       "      <th>50%</th>\n",
       "      <th>75%</th>\n",
       "      <th>max</th>\n",
       "    </tr>\n",
       "  </thead>\n",
       "  <tbody>\n",
       "    <tr>\n",
       "      <th>fixed acidity</th>\n",
       "      <td>3155.0</td>\n",
       "      <td>7.221616</td>\n",
       "      <td>1.325297</td>\n",
       "      <td>3.80000</td>\n",
       "      <td>6.40000</td>\n",
       "      <td>7.00000</td>\n",
       "      <td>7.7000</td>\n",
       "      <td>15.60000</td>\n",
       "    </tr>\n",
       "    <tr>\n",
       "      <th>volatile acidity</th>\n",
       "      <td>3155.0</td>\n",
       "      <td>0.338929</td>\n",
       "      <td>0.162476</td>\n",
       "      <td>0.08000</td>\n",
       "      <td>0.23000</td>\n",
       "      <td>0.29000</td>\n",
       "      <td>0.4000</td>\n",
       "      <td>1.24000</td>\n",
       "    </tr>\n",
       "    <tr>\n",
       "      <th>citric acid</th>\n",
       "      <td>3155.0</td>\n",
       "      <td>0.321569</td>\n",
       "      <td>0.147970</td>\n",
       "      <td>0.00000</td>\n",
       "      <td>0.25000</td>\n",
       "      <td>0.31000</td>\n",
       "      <td>0.4000</td>\n",
       "      <td>1.66000</td>\n",
       "    </tr>\n",
       "    <tr>\n",
       "      <th>residual sugar</th>\n",
       "      <td>3155.0</td>\n",
       "      <td>5.155911</td>\n",
       "      <td>4.639632</td>\n",
       "      <td>0.60000</td>\n",
       "      <td>1.80000</td>\n",
       "      <td>2.80000</td>\n",
       "      <td>7.6500</td>\n",
       "      <td>65.80000</td>\n",
       "    </tr>\n",
       "    <tr>\n",
       "      <th>chlorides</th>\n",
       "      <td>3155.0</td>\n",
       "      <td>0.056976</td>\n",
       "      <td>0.036802</td>\n",
       "      <td>0.01200</td>\n",
       "      <td>0.03800</td>\n",
       "      <td>0.04700</td>\n",
       "      <td>0.0660</td>\n",
       "      <td>0.61100</td>\n",
       "    </tr>\n",
       "    <tr>\n",
       "      <th>free sulfur dioxide</th>\n",
       "      <td>3155.0</td>\n",
       "      <td>30.388590</td>\n",
       "      <td>17.236784</td>\n",
       "      <td>1.00000</td>\n",
       "      <td>17.00000</td>\n",
       "      <td>28.00000</td>\n",
       "      <td>41.0000</td>\n",
       "      <td>131.00000</td>\n",
       "    </tr>\n",
       "    <tr>\n",
       "      <th>total sulfur dioxide</th>\n",
       "      <td>3155.0</td>\n",
       "      <td>115.062282</td>\n",
       "      <td>56.706617</td>\n",
       "      <td>6.00000</td>\n",
       "      <td>75.00000</td>\n",
       "      <td>117.00000</td>\n",
       "      <td>156.0000</td>\n",
       "      <td>344.00000</td>\n",
       "    </tr>\n",
       "    <tr>\n",
       "      <th>density</th>\n",
       "      <td>3155.0</td>\n",
       "      <td>0.994633</td>\n",
       "      <td>0.003005</td>\n",
       "      <td>0.98711</td>\n",
       "      <td>0.99232</td>\n",
       "      <td>0.99481</td>\n",
       "      <td>0.9968</td>\n",
       "      <td>1.03898</td>\n",
       "    </tr>\n",
       "    <tr>\n",
       "      <th>pH</th>\n",
       "      <td>3155.0</td>\n",
       "      <td>3.223201</td>\n",
       "      <td>0.161272</td>\n",
       "      <td>2.72000</td>\n",
       "      <td>3.11000</td>\n",
       "      <td>3.21000</td>\n",
       "      <td>3.3300</td>\n",
       "      <td>4.01000</td>\n",
       "    </tr>\n",
       "    <tr>\n",
       "      <th>sulphates</th>\n",
       "      <td>3155.0</td>\n",
       "      <td>0.534051</td>\n",
       "      <td>0.149149</td>\n",
       "      <td>0.22000</td>\n",
       "      <td>0.43000</td>\n",
       "      <td>0.51000</td>\n",
       "      <td>0.6000</td>\n",
       "      <td>1.95000</td>\n",
       "    </tr>\n",
       "    <tr>\n",
       "      <th>alcohol</th>\n",
       "      <td>3155.0</td>\n",
       "      <td>10.504466</td>\n",
       "      <td>1.154654</td>\n",
       "      <td>8.50000</td>\n",
       "      <td>9.50000</td>\n",
       "      <td>10.30000</td>\n",
       "      <td>11.3000</td>\n",
       "      <td>14.00000</td>\n",
       "    </tr>\n",
       "  </tbody>\n",
       "</table>\n",
       "</div>"
      ],
      "text/plain": [
       "                       count        mean        std      min       25%  \\\n",
       "fixed acidity         3155.0    7.221616   1.325297  3.80000   6.40000   \n",
       "volatile acidity      3155.0    0.338929   0.162476  0.08000   0.23000   \n",
       "citric acid           3155.0    0.321569   0.147970  0.00000   0.25000   \n",
       "residual sugar        3155.0    5.155911   4.639632  0.60000   1.80000   \n",
       "chlorides             3155.0    0.056976   0.036802  0.01200   0.03800   \n",
       "free sulfur dioxide   3155.0   30.388590  17.236784  1.00000  17.00000   \n",
       "total sulfur dioxide  3155.0  115.062282  56.706617  6.00000  75.00000   \n",
       "density               3155.0    0.994633   0.003005  0.98711   0.99232   \n",
       "pH                    3155.0    3.223201   0.161272  2.72000   3.11000   \n",
       "sulphates             3155.0    0.534051   0.149149  0.22000   0.43000   \n",
       "alcohol               3155.0   10.504466   1.154654  8.50000   9.50000   \n",
       "\n",
       "                            50%       75%        max  \n",
       "fixed acidity           7.00000    7.7000   15.60000  \n",
       "volatile acidity        0.29000    0.4000    1.24000  \n",
       "citric acid             0.31000    0.4000    1.66000  \n",
       "residual sugar          2.80000    7.6500   65.80000  \n",
       "chlorides               0.04700    0.0660    0.61100  \n",
       "free sulfur dioxide    28.00000   41.0000  131.00000  \n",
       "total sulfur dioxide  117.00000  156.0000  344.00000  \n",
       "density                 0.99481    0.9968    1.03898  \n",
       "pH                      3.21000    3.3300    4.01000  \n",
       "sulphates               0.51000    0.6000    1.95000  \n",
       "alcohol                10.30000   11.3000   14.00000  "
      ]
     },
     "execution_count": 20,
     "metadata": {},
     "output_type": "execute_result"
    }
   ],
   "source": [
    "train_stats"
   ]
  },
  {
   "cell_type": "markdown",
   "metadata": {
    "colab_type": "text",
    "id": "bGPvt9jir_HC"
   },
   "source": [
    "### Get the labels (TODO)\n",
    "\n",
    "The features and labels are currently in the same dataframe.\n",
    "- You will want to store the label columns `is_red` and `quality` separately from the feature columns.  \n",
    "- The following function, `format_output`, gets these two columns from the dataframe (it's given to you).\n",
    "- `format_output` also formats the data into numpy arrays. \n",
    "- Please use the `format_output` and apply it to the `train`, `val` and `test` sets to get dataframes for the labels."
   ]
  },
  {
   "cell_type": "code",
   "execution_count": 21,
   "metadata": {
    "colab": {},
    "colab_type": "code",
    "id": "Z_fs14XQqZVP"
   },
   "outputs": [],
   "source": [
    "def format_output(data):\n",
    "    is_red = data.pop('is_red')\n",
    "    is_red = np.array(is_red)\n",
    "    quality = data.pop('quality')\n",
    "    quality = np.array(quality)\n",
    "    return (quality, is_red)"
   ]
  },
  {
   "cell_type": "code",
   "execution_count": 22,
   "metadata": {
    "colab": {},
    "colab_type": "code",
    "deletable": false,
    "id": "8L3ZZe1fQicm",
    "nbgrader": {
     "cell_type": "code",
     "checksum": "7a86809e54895a816434c48dc903f55d",
     "grade": false,
     "grade_id": "cell-5c30fa2c2a354b0f",
     "locked": false,
     "schema_version": 3,
     "solution": true,
     "task": false
    }
   },
   "outputs": [],
   "source": [
    "# Please uncomment all lines in this cell and replace those marked with `# YOUR CODE HERE`.\n",
    "# You can select all lines in this code cell with Ctrl+A (Windows/Linux) or Cmd+A (Mac), then press Ctrl+/ (Windows/Linux) or Cmd+/ (Mac) to uncomment.\n",
    "\n",
    "\n",
    "\n",
    "# format the output of the train set\n",
    "train_Y = format_output(train)\n",
    "\n",
    "# format the output of the val set\n",
    "val_Y = format_output(val)\n",
    "    \n",
    "# format the output of the test set\n",
    "test_Y = format_output(test)"
   ]
  },
  {
   "cell_type": "code",
   "execution_count": 23,
   "metadata": {
    "deletable": false,
    "editable": false,
    "nbgrader": {
     "cell_type": "code",
     "checksum": "359cabbafaed14ec9bbc1e57a7b6f32c",
     "grade": true,
     "grade_id": "cell-4977d8befb80f56b",
     "locked": true,
     "points": 1,
     "schema_version": 3,
     "solution": false,
     "task": false
    }
   },
   "outputs": [
    {
     "name": "stdout",
     "output_type": "stream",
     "text": [
      "\u001b[92m All public tests passed\n"
     ]
    }
   ],
   "source": [
    "utils.test_format_output(df, train_Y, val_Y, test_Y)"
   ]
  },
  {
   "cell_type": "markdown",
   "metadata": {},
   "source": [
    "Notice that after you get the labels, the `train`, `val` and `test` dataframes no longer contain the label columns, and contain just the feature columns.\n",
    "- This is because you used `.pop` in the `format_output` function."
   ]
  },
  {
   "cell_type": "code",
   "execution_count": 24,
   "metadata": {},
   "outputs": [
    {
     "data": {
      "text/html": [
       "<div>\n",
       "<style scoped>\n",
       "    .dataframe tbody tr th:only-of-type {\n",
       "        vertical-align: middle;\n",
       "    }\n",
       "\n",
       "    .dataframe tbody tr th {\n",
       "        vertical-align: top;\n",
       "    }\n",
       "\n",
       "    .dataframe thead th {\n",
       "        text-align: right;\n",
       "    }\n",
       "</style>\n",
       "<table border=\"1\" class=\"dataframe\">\n",
       "  <thead>\n",
       "    <tr style=\"text-align: right;\">\n",
       "      <th></th>\n",
       "      <th>fixed acidity</th>\n",
       "      <th>volatile acidity</th>\n",
       "      <th>citric acid</th>\n",
       "      <th>residual sugar</th>\n",
       "      <th>chlorides</th>\n",
       "      <th>free sulfur dioxide</th>\n",
       "      <th>total sulfur dioxide</th>\n",
       "      <th>density</th>\n",
       "      <th>pH</th>\n",
       "      <th>sulphates</th>\n",
       "      <th>alcohol</th>\n",
       "    </tr>\n",
       "  </thead>\n",
       "  <tbody>\n",
       "    <tr>\n",
       "      <th>225</th>\n",
       "      <td>7.5</td>\n",
       "      <td>0.65</td>\n",
       "      <td>0.18</td>\n",
       "      <td>7.0</td>\n",
       "      <td>0.088</td>\n",
       "      <td>27.0</td>\n",
       "      <td>94.0</td>\n",
       "      <td>0.99915</td>\n",
       "      <td>3.38</td>\n",
       "      <td>0.77</td>\n",
       "      <td>9.4</td>\n",
       "    </tr>\n",
       "    <tr>\n",
       "      <th>3557</th>\n",
       "      <td>6.3</td>\n",
       "      <td>0.27</td>\n",
       "      <td>0.29</td>\n",
       "      <td>12.2</td>\n",
       "      <td>0.044</td>\n",
       "      <td>59.0</td>\n",
       "      <td>196.0</td>\n",
       "      <td>0.99782</td>\n",
       "      <td>3.14</td>\n",
       "      <td>0.40</td>\n",
       "      <td>8.8</td>\n",
       "    </tr>\n",
       "    <tr>\n",
       "      <th>3825</th>\n",
       "      <td>8.8</td>\n",
       "      <td>0.27</td>\n",
       "      <td>0.25</td>\n",
       "      <td>5.0</td>\n",
       "      <td>0.024</td>\n",
       "      <td>52.0</td>\n",
       "      <td>99.0</td>\n",
       "      <td>0.99250</td>\n",
       "      <td>2.87</td>\n",
       "      <td>0.49</td>\n",
       "      <td>11.4</td>\n",
       "    </tr>\n",
       "    <tr>\n",
       "      <th>1740</th>\n",
       "      <td>6.4</td>\n",
       "      <td>0.45</td>\n",
       "      <td>0.07</td>\n",
       "      <td>1.1</td>\n",
       "      <td>0.030</td>\n",
       "      <td>10.0</td>\n",
       "      <td>131.0</td>\n",
       "      <td>0.99050</td>\n",
       "      <td>2.97</td>\n",
       "      <td>0.28</td>\n",
       "      <td>10.8</td>\n",
       "    </tr>\n",
       "    <tr>\n",
       "      <th>1221</th>\n",
       "      <td>7.2</td>\n",
       "      <td>0.53</td>\n",
       "      <td>0.13</td>\n",
       "      <td>2.0</td>\n",
       "      <td>0.058</td>\n",
       "      <td>18.0</td>\n",
       "      <td>22.0</td>\n",
       "      <td>0.99573</td>\n",
       "      <td>3.21</td>\n",
       "      <td>0.68</td>\n",
       "      <td>9.9</td>\n",
       "    </tr>\n",
       "  </tbody>\n",
       "</table>\n",
       "</div>"
      ],
      "text/plain": [
       "      fixed acidity  volatile acidity  citric acid  residual sugar  chlorides  \\\n",
       "225             7.5              0.65         0.18             7.0      0.088   \n",
       "3557            6.3              0.27         0.29            12.2      0.044   \n",
       "3825            8.8              0.27         0.25             5.0      0.024   \n",
       "1740            6.4              0.45         0.07             1.1      0.030   \n",
       "1221            7.2              0.53         0.13             2.0      0.058   \n",
       "\n",
       "      free sulfur dioxide  total sulfur dioxide  density    pH  sulphates  \\\n",
       "225                  27.0                  94.0  0.99915  3.38       0.77   \n",
       "3557                 59.0                 196.0  0.99782  3.14       0.40   \n",
       "3825                 52.0                  99.0  0.99250  2.87       0.49   \n",
       "1740                 10.0                 131.0  0.99050  2.97       0.28   \n",
       "1221                 18.0                  22.0  0.99573  3.21       0.68   \n",
       "\n",
       "      alcohol  \n",
       "225       9.4  \n",
       "3557      8.8  \n",
       "3825     11.4  \n",
       "1740     10.8  \n",
       "1221      9.9  "
      ]
     },
     "execution_count": 24,
     "metadata": {},
     "output_type": "execute_result"
    }
   ],
   "source": [
    "train.head()"
   ]
  },
  {
   "cell_type": "markdown",
   "metadata": {
    "colab_type": "text",
    "id": "hEdbrruAsN1D"
   },
   "source": [
    "### Normalize the data (TODO)\n",
    "\n",
    "Next, you can normalize the data, x, using the formula:\n",
    "$$x_{norm} = \\frac{x - \\mu}{\\sigma}$$\n",
    "- The `norm` function is defined for you.\n",
    "- Please apply the `norm` function to normalize the dataframes that contains the feature columns of `train`, `val` and `test` sets."
   ]
  },
  {
   "cell_type": "code",
   "execution_count": 25,
   "metadata": {
    "colab": {},
    "colab_type": "code",
    "id": "WWiZPAHCLjUs"
   },
   "outputs": [],
   "source": [
    "def norm(x):\n",
    "    return (x - train_stats['mean']) / train_stats['std']"
   ]
  },
  {
   "cell_type": "code",
   "execution_count": 26,
   "metadata": {
    "colab": {},
    "colab_type": "code",
    "deletable": false,
    "id": "JEaOi2I2Lk69",
    "nbgrader": {
     "cell_type": "code",
     "checksum": "6bc0cdcb563d192f271067aa3373ff32",
     "grade": false,
     "grade_id": "cell-d8416d975c371095",
     "locked": false,
     "schema_version": 3,
     "solution": true,
     "task": false
    }
   },
   "outputs": [],
   "source": [
    "# Please uncomment all lines in this cell and replace those marked with `# YOUR CODE HERE`.\n",
    "# You can select all lines in this code cell with Ctrl+A (Windows/Linux) or Cmd+A (Mac), then press Ctrl+/ (Windows/Linux) or Cmd+/ (Mac) to uncomment.\n",
    "\n",
    "\n",
    "\n",
    "# normalize the train set\n",
    "norm_train_X = norm(train)\n",
    "    \n",
    "# normalize the val set\n",
    "norm_val_X = norm(val)\n",
    "    \n",
    "# normalize the test set\n",
    "norm_test_X = norm(test)"
   ]
  },
  {
   "cell_type": "code",
   "execution_count": 27,
   "metadata": {
    "deletable": false,
    "editable": false,
    "nbgrader": {
     "cell_type": "code",
     "checksum": "4f567db45bf40191601780379cc100b8",
     "grade": true,
     "grade_id": "cell-97fad979d157529b",
     "locked": true,
     "points": 1,
     "schema_version": 3,
     "solution": false,
     "task": false
    }
   },
   "outputs": [
    {
     "name": "stdout",
     "output_type": "stream",
     "text": [
      "\u001b[92m All public tests passed\n"
     ]
    }
   ],
   "source": [
    "utils.test_norm(norm_train_X, norm_val_X, norm_test_X, train, val, test)\n"
   ]
  },
  {
   "cell_type": "markdown",
   "metadata": {
    "colab_type": "text",
    "id": "hzykDwQhsaPO"
   },
   "source": [
    "## Define the Model (TODO)\n",
    "\n",
    "Define the model using the functional API. The base model will be 2 `Dense` layers of 128 neurons each, and have the `'relu'` activation.\n",
    "- Check out the documentation for [tf.keras.layers.Dense](https://www.tensorflow.org/api_docs/python/tf/keras/layers/Dense)"
   ]
  },
  {
   "cell_type": "code",
   "execution_count": 28,
   "metadata": {
    "colab": {},
    "colab_type": "code",
    "deletable": false,
    "id": "Rhcns3oTFkM6",
    "nbgrader": {
     "cell_type": "code",
     "checksum": "74b031247e569526552bf13a034a1c07",
     "grade": false,
     "grade_id": "cell-73fceedad1fe351c",
     "locked": false,
     "schema_version": 3,
     "solution": true,
     "task": false
    }
   },
   "outputs": [],
   "source": [
    "# Please uncomment all lines in this cell and replace those marked with `# YOUR CODE HERE`.\n",
    "# You can select all lines in this code cell with Ctrl+A (Windows/Linux) or Cmd+A (Mac), then press Ctrl+/ (Windows/Linux) or Cmd+/ (Mac) to uncomment.\n",
    "\n",
    "\n",
    "\n",
    "def base_model(inputs):\n",
    "    \n",
    "    # connect a Dense layer with 128 neurons and a relu activation\n",
    "    x = tf.keras.layers.Dense(128,activation='relu')(inputs)\n",
    "    \n",
    "    # connect another Dense layer with 128 neurons and a relu activation\n",
    "    x = tf.keras.layers.Dense(128,activation='relu')(x)\n",
    "    return x\n",
    "  "
   ]
  },
  {
   "cell_type": "code",
   "execution_count": 29,
   "metadata": {
    "deletable": false,
    "editable": false,
    "nbgrader": {
     "cell_type": "code",
     "checksum": "9255924b3def80f679616e4c851a43e1",
     "grade": true,
     "grade_id": "cell-54f742a133353d75",
     "locked": true,
     "points": 1,
     "schema_version": 3,
     "solution": false,
     "task": false
    }
   },
   "outputs": [
    {
     "name": "stdout",
     "output_type": "stream",
     "text": [
      "\u001b[92m All public tests passed\n"
     ]
    }
   ],
   "source": [
    "utils.test_base_model(base_model)"
   ]
  },
  {
   "cell_type": "markdown",
   "metadata": {
    "colab_type": "text",
    "id": "xem_fcVws6Kz"
   },
   "source": [
    "# Define output layers of the model (TODO)\n",
    "\n",
    "You will add output layers to the base model. \n",
    "- The model will need two outputs.\n",
    "\n",
    "One output layer will predict wine quality, which is a numeric value.\n",
    "- Define a `Dense` layer with 1 neuron.\n",
    "- Since this is a regression output, the activation can be left as its default value `None`.\n",
    "\n",
    "The other output layer will predict the wine type, which is either red `1` or not red `0` (white).\n",
    "- Define a `Dense` layer with 1 neuron.\n",
    "- Since there are two possible categories, you can use a sigmoid activation for binary classification.\n",
    "\n",
    "Define the `Model`\n",
    "- Define the `Model` object, and set the following parameters:\n",
    "  - `inputs`: pass in the inputs to the model as a list.\n",
    "  - `outputs`: pass in a list of the outputs that you just defined: wine quality, then wine type.\n",
    "  - **Note**: please list the wine quality before wine type in the outputs, as this will affect the calculated loss if you choose the other order."
   ]
  },
  {
   "cell_type": "code",
   "execution_count": 30,
   "metadata": {
    "colab": {},
    "colab_type": "code",
    "deletable": false,
    "id": "n5UGF8PMVLPt",
    "nbgrader": {
     "cell_type": "code",
     "checksum": "76d35b90d20cdcbb22986cd8211057de",
     "grade": false,
     "grade_id": "cell-19e285f482f021fb",
     "locked": false,
     "schema_version": 3,
     "solution": true,
     "task": false
    }
   },
   "outputs": [],
   "source": [
    "# Please uncomment all lines in this cell and replace those marked with `# YOUR CODE HERE`.\n",
    "# You can select all lines in this code cell with Ctrl+A (Windows/Linux) or Cmd+A (Mac), then press Ctrl+/ (Windows/Linux) or Cmd+/ (Mac) to uncomment.\n",
    "\n",
    "\n",
    "\n",
    "def final_model(inputs):\n",
    "    \n",
    "    # get the base model\n",
    "    x = base_model(inputs)\n",
    "\n",
    "    # connect the output Dense layer for regression\n",
    "    wine_quality = Dense(units='1', name='wine_quality')(x)\n",
    "\n",
    "    # connect the output Dense layer for classification. this will use a sigmoid activation.\n",
    "    wine_type = Dense(units='1', activation='sigmoid', name='wine_type')(x)\n",
    "\n",
    "    # define the model using the input and output layers\n",
    "    model = Model(inputs=inputs, outputs=[wine_quality,wine_type])\n",
    "\n",
    "    return model"
   ]
  },
  {
   "cell_type": "code",
   "execution_count": 31,
   "metadata": {
    "deletable": false,
    "editable": false,
    "nbgrader": {
     "cell_type": "code",
     "checksum": "89cbf89d8ab5e2e59ecf7f63f517520a",
     "grade": true,
     "grade_id": "cell-40d050f855c817d1",
     "locked": true,
     "points": 1,
     "schema_version": 3,
     "solution": false,
     "task": false
    }
   },
   "outputs": [
    {
     "name": "stdout",
     "output_type": "stream",
     "text": [
      "\u001b[92m All public tests passed\n"
     ]
    }
   ],
   "source": [
    "utils.test_final_model(final_model)"
   ]
  },
  {
   "cell_type": "markdown",
   "metadata": {
    "colab_type": "text",
    "id": "5R0BMTsltZyu"
   },
   "source": [
    "## Compiling the Model\n",
    "\n",
    "Next, compile the model. When setting the loss parameter of `model.compile`, you're setting the loss for each of the two outputs (wine quality and wine type).\n",
    "\n",
    "To set more than one loss, use a dictionary of key-value pairs.\n",
    "- You can look at the docs for the losses [here](https://www.tensorflow.org/api_docs/python/tf/keras/losses#functions).\n",
    "    - **Note**: For the desired spelling, please look at the \"Functions\" section of the documentation and not the \"classes\" section on that same page.\n",
    "- wine_type: Since you will be performing binary classification on wine type, you should use the binary crossentropy loss function for it.  Please pass this in as a string.  \n",
    "  - **Hint**, this should be all lowercase.  In the documentation, you'll see this under the \"Functions\" section, not the \"Classes\" section.\n",
    "- wine_quality: since this is a regression output, use the mean squared error.  Please pass it in as a string, all lowercase.\n",
    "  - **Hint**: You may notice that there are two aliases for mean squared error.  Please use the shorter name.\n",
    "\n",
    "\n",
    "You will also set the metric for each of the two outputs.  Again, to set metrics for two or more outputs, use a dictionary with key value pairs.\n",
    "- The metrics documentation is linked [here](https://www.tensorflow.org/api_docs/python/tf/keras/metrics).\n",
    "- For the wine type, please set it to accuracy as a string, all lowercase.\n",
    "- For wine quality, please use the root mean squared error.  Instead of a string, you'll set it to an instance of the class [RootMeanSquaredError](https://www.tensorflow.org/api_docs/python/tf/keras/metrics/RootMeanSquaredError), which belongs to the tf.keras.metrics module.\n",
    "\n",
    "**Note**: If you see the error message \n",
    ">Exception: wine quality loss function is incorrect.\n",
    "\n",
    "- Please also check your other losses and metrics, as the error may be caused by the other three key-value pairs and not the wine quality loss."
   ]
  },
  {
   "cell_type": "code",
   "execution_count": 32,
   "metadata": {
    "colab": {},
    "colab_type": "code",
    "deletable": false,
    "id": "LK11duUbUjmh",
    "nbgrader": {
     "cell_type": "code",
     "checksum": "22f45067ca69eb2ccadb43874dbcc27b",
     "grade": false,
     "grade_id": "cell-81afdc4dcca51d5e",
     "locked": false,
     "schema_version": 3,
     "solution": true,
     "task": false
    }
   },
   "outputs": [],
   "source": [
    "# Please uncomment all lines in this cell and replace those marked with `# YOUR CODE HERE`.\n",
    "# You can select all lines in this code cell with Ctrl+A (Windows/Linux) or Cmd+A (Mac), then press Ctrl+/ (Windows/Linux) or Cmd+/ (Mac) to uncomment.\n",
    "\n",
    "\n",
    "\n",
    "inputs = tf.keras.layers.Input(shape=(11,))\n",
    "rms = tf.keras.optimizers.RMSprop(lr=0.0001)\n",
    "model = final_model(inputs)\n",
    "\n",
    "model.compile(optimizer=rms, \n",
    "              loss = {'wine_type' : 'binary_crossentropy',\n",
    "                      'wine_quality' : 'mean_squared_error'\n",
    "                     },\n",
    "              metrics = {'wine_type' : 'accuracy',\n",
    "                         'wine_quality': 'mse'\n",
    "                       }\n",
    "             )\n"
   ]
  },
  {
   "cell_type": "code",
   "execution_count": 33,
   "metadata": {
    "deletable": false,
    "editable": false,
    "nbgrader": {
     "cell_type": "code",
     "checksum": "88e02238ea5e456ff65e835cc8158054",
     "grade": true,
     "grade_id": "cell-2eeeba02391c4632",
     "locked": true,
     "points": 1,
     "schema_version": 3,
     "solution": false,
     "task": false
    }
   },
   "outputs": [
    {
     "name": "stdout",
     "output_type": "stream",
     "text": [
      "metrics_0_check: wine quality metrics is incorrect. Please check implementation.\n",
      "Expected: <class 'tensorflow.python.keras.metrics.RootMeanSquaredError'>\n",
      "Result: <class 'tensorflow.python.keras.metrics.MeanMetricWrapper'>\n",
      "Please open utils.py if you want to see the unit test here.\n",
      "\n",
      "\u001b[92m 3  Tests passed\n",
      "\u001b[91m 1  Tests failed\n"
     ]
    },
    {
     "ename": "Exception",
     "evalue": "wine quality loss: binary_crossentropy is incorrect. Please check implementation.",
     "output_type": "error",
     "traceback": [
      "\u001b[1;31m---------------------------------------------------------------------------\u001b[0m",
      "\u001b[1;31mException\u001b[0m                                 Traceback (most recent call last)",
      "\u001b[1;32m<ipython-input-33-9a25711e305e>\u001b[0m in \u001b[0;36m<module>\u001b[1;34m\u001b[0m\n\u001b[1;32m----> 1\u001b[1;33m \u001b[0mutils\u001b[0m\u001b[1;33m.\u001b[0m\u001b[0mtest_model_compile\u001b[0m\u001b[1;33m(\u001b[0m\u001b[0mmodel\u001b[0m\u001b[1;33m)\u001b[0m\u001b[1;33m\u001b[0m\u001b[0m\n\u001b[0m",
      "\u001b[1;32mD:\\Amit\\MyWorkspace\\DL_adv_techniques_splzn\\C1W1utils.py\u001b[0m in \u001b[0;36mtest_model_compile\u001b[1;34m(model)\u001b[0m\n\u001b[0;32m    317\u001b[0m     ]\n\u001b[0;32m    318\u001b[0m \u001b[1;33m\u001b[0m\u001b[0m\n\u001b[1;32m--> 319\u001b[1;33m     \u001b[0mtest_loop\u001b[0m\u001b[1;33m(\u001b[0m\u001b[0mtest_cases\u001b[0m\u001b[1;33m)\u001b[0m\u001b[1;33m\u001b[0m\u001b[0m\n\u001b[0m\u001b[0;32m    320\u001b[0m \u001b[1;33m\u001b[0m\u001b[0m\n\u001b[0;32m    321\u001b[0m \u001b[1;32mdef\u001b[0m \u001b[0mtest_history\u001b[0m\u001b[1;33m(\u001b[0m\u001b[0mhistory\u001b[0m\u001b[1;33m)\u001b[0m\u001b[1;33m:\u001b[0m\u001b[1;33m\u001b[0m\u001b[0m\n",
      "\u001b[1;32mD:\\Amit\\MyWorkspace\\DL_adv_techniques_splzn\\C1W1utils.py\u001b[0m in \u001b[0;36mtest_loop\u001b[1;34m(test_cases)\u001b[0m\n\u001b[0;32m     25\u001b[0m         \u001b[0mprint\u001b[0m\u001b[1;33m(\u001b[0m\u001b[1;34m'\\033[92m'\u001b[0m\u001b[1;33m,\u001b[0m \u001b[0msuccess\u001b[0m\u001b[1;33m,\u001b[0m\u001b[1;34m\" Tests passed\"\u001b[0m\u001b[1;33m)\u001b[0m\u001b[1;33m\u001b[0m\u001b[0m\n\u001b[0;32m     26\u001b[0m         \u001b[0mprint\u001b[0m\u001b[1;33m(\u001b[0m\u001b[1;34m'\\033[91m'\u001b[0m\u001b[1;33m,\u001b[0m \u001b[0mfails\u001b[0m\u001b[1;33m,\u001b[0m \u001b[1;34m\" Tests failed\"\u001b[0m\u001b[1;33m)\u001b[0m\u001b[1;33m\u001b[0m\u001b[0m\n\u001b[1;32m---> 27\u001b[1;33m         \u001b[1;32mraise\u001b[0m \u001b[0mException\u001b[0m\u001b[1;33m(\u001b[0m\u001b[0mtest_case\u001b[0m\u001b[1;33m[\u001b[0m\u001b[1;34m\"error_message\"\u001b[0m\u001b[1;33m]\u001b[0m\u001b[1;33m)\u001b[0m\u001b[1;33m\u001b[0m\u001b[0m\n\u001b[0m\u001b[0;32m     28\u001b[0m \u001b[1;33m\u001b[0m\u001b[0m\n\u001b[0;32m     29\u001b[0m \u001b[1;32mdef\u001b[0m \u001b[0mtest_white_df\u001b[0m\u001b[1;33m(\u001b[0m\u001b[0mwhite_df\u001b[0m\u001b[1;33m)\u001b[0m\u001b[1;33m:\u001b[0m\u001b[1;33m\u001b[0m\u001b[0m\n",
      "\u001b[1;31mException\u001b[0m: wine quality loss: binary_crossentropy is incorrect. Please check implementation."
     ]
    }
   ],
   "source": [
    "utils.test_model_compile(model)"
   ]
  },
  {
   "cell_type": "markdown",
   "metadata": {
    "colab_type": "text",
    "id": "90MpAMpWuKm-"
   },
   "source": [
    "## Training the Model\n",
    "\n",
    "Fit the model to the training inputs and outputs. \n",
    "- Check the documentation for [model.fit](https://www.tensorflow.org/api_docs/python/tf/keras/Model#fit).\n",
    "- Remember to use the normalized training set as inputs. \n",
    "- For the validation data, please use the normalized validation set."
   ]
  },
  {
   "cell_type": "code",
   "execution_count": 42,
   "metadata": {
    "colab": {},
    "colab_type": "code",
    "deletable": false,
    "id": "_eiZkle4XwiY",
    "nbgrader": {
     "cell_type": "code",
     "checksum": "2ca7664be03bfd6fd3651ae44d17b793",
     "grade": false,
     "grade_id": "cell-0bb56262896f6680",
     "locked": false,
     "schema_version": 3,
     "solution": true,
     "task": false
    }
   },
   "outputs": [
    {
     "name": "stdout",
     "output_type": "stream",
     "text": [
      "WARNING:tensorflow:Falling back from v2 loop because of error: Failed to find data adapter that can handle input: <class 'pandas.core.frame.DataFrame'>, <class 'NoneType'>\n",
      "Train on 3155 samples, validate on 789 samples\n",
      "Epoch 1/180\n",
      "3155/3155 [==============================] - 0s 156us/sample - loss: 24.9320 - wine_quality_loss: 24.2416 - wine_type_loss: 0.6601 - wine_quality_mse: 24.2721 - wine_type_accuracy: 0.7252 - val_loss: 17.9224 - val_wine_quality_loss: 17.2394 - val_wine_type_loss: 0.6391 - val_wine_quality_mse: 17.2834 - val_wine_type_accuracy: 0.7338\n",
      "Epoch 2/180\n",
      "3155/3155 [==============================] - 0s 58us/sample - loss: 11.9138 - wine_quality_loss: 11.2781 - wine_type_loss: 0.6122 - wine_quality_mse: 11.3015 - wine_type_accuracy: 0.7407 - val_loss: 7.0542 - val_wine_quality_loss: 6.4622 - val_wine_type_loss: 0.5829 - val_wine_quality_mse: 6.4703 - val_wine_type_accuracy: 0.7351\n",
      "Epoch 3/180\n",
      "3155/3155 [==============================] - 0s 54us/sample - loss: 4.6808 - wine_quality_loss: 4.1411 - wine_type_loss: 0.5326 - wine_quality_mse: 4.1480 - wine_type_accuracy: 0.7468 - val_loss: 3.0825 - val_wine_quality_loss: 2.5894 - val_wine_type_loss: 0.4832 - val_wine_quality_mse: 2.5979 - val_wine_type_accuracy: 0.7427\n",
      "Epoch 4/180\n",
      "3155/3155 [==============================] - 0s 49us/sample - loss: 2.7657 - wine_quality_loss: 2.3329 - wine_type_loss: 0.4264 - wine_quality_mse: 2.3387 - wine_type_accuracy: 0.8079 - val_loss: 2.3817 - val_wine_quality_loss: 1.9982 - val_wine_type_loss: 0.3825 - val_wine_quality_mse: 1.9982 - val_wine_type_accuracy: 0.8428\n",
      "Epoch 5/180\n",
      "3155/3155 [==============================] - 0s 51us/sample - loss: 2.3015 - wine_quality_loss: 1.9625 - wine_type_loss: 0.3364 - wine_quality_mse: 1.9650 - wine_type_accuracy: 0.8824 - val_loss: 2.0759 - val_wine_quality_loss: 1.7781 - val_wine_type_loss: 0.3017 - val_wine_quality_mse: 1.7753 - val_wine_type_accuracy: 0.9163\n",
      "Epoch 6/180\n",
      "3155/3155 [==============================] - 0s 53us/sample - loss: 2.0176 - wine_quality_loss: 1.7528 - wine_type_loss: 0.2628 - wine_quality_mse: 1.7546 - wine_type_accuracy: 0.9423 - val_loss: 1.8250 - val_wine_quality_loss: 1.5931 - val_wine_type_loss: 0.2331 - val_wine_quality_mse: 1.5918 - val_wine_type_accuracy: 0.9569\n",
      "Epoch 7/180\n",
      "3155/3155 [==============================] - 0s 50us/sample - loss: 1.8071 - wine_quality_loss: 1.5974 - wine_type_loss: 0.2071 - wine_quality_mse: 1.6000 - wine_type_accuracy: 0.9686 - val_loss: 1.6345 - val_wine_quality_loss: 1.4518 - val_wine_type_loss: 0.1842 - val_wine_quality_mse: 1.4501 - val_wine_type_accuracy: 0.9797\n",
      "Epoch 8/180\n",
      "3155/3155 [==============================] - 0s 57us/sample - loss: 1.6438 - wine_quality_loss: 1.4763 - wine_type_loss: 0.1649 - wine_quality_mse: 1.4789 - wine_type_accuracy: 0.9772 - val_loss: 1.5010 - val_wine_quality_loss: 1.3615 - val_wine_type_loss: 0.1467 - val_wine_quality_mse: 1.3545 - val_wine_type_accuracy: 0.9835\n",
      "Epoch 9/180\n",
      "3155/3155 [==============================] - 0s 69us/sample - loss: 1.5132 - wine_quality_loss: 1.3804 - wine_type_loss: 0.1364 - wine_quality_mse: 1.3778 - wine_type_accuracy: 0.9819 - val_loss: 1.3830 - val_wine_quality_loss: 1.2600 - val_wine_type_loss: 0.1199 - val_wine_quality_mse: 1.2628 - val_wine_type_accuracy: 0.9848\n",
      "Epoch 10/180\n",
      "3155/3155 [==============================] - 0s 67us/sample - loss: 1.4028 - wine_quality_loss: 1.2913 - wine_type_loss: 0.1133 - wine_quality_mse: 1.2898 - wine_type_accuracy: 0.9845 - val_loss: 1.2793 - val_wine_quality_loss: 1.1785 - val_wine_type_loss: 0.1000 - val_wine_quality_mse: 1.1787 - val_wine_type_accuracy: 0.9873\n",
      "Epoch 11/180\n",
      "3155/3155 [==============================] - 0s 54us/sample - loss: 1.3086 - wine_quality_loss: 1.2137 - wine_type_loss: 0.0968 - wine_quality_mse: 1.2116 - wine_type_accuracy: 0.9870 - val_loss: 1.1865 - val_wine_quality_loss: 1.0961 - val_wine_type_loss: 0.0876 - val_wine_quality_mse: 1.1003 - val_wine_type_accuracy: 0.9886\n",
      "Epoch 12/180\n",
      "3155/3155 [==============================] - 0s 56us/sample - loss: 1.2218 - wine_quality_loss: 1.1368 - wine_type_loss: 0.0854 - wine_quality_mse: 1.1364 - wine_type_accuracy: 0.9883 - val_loss: 1.1310 - val_wine_quality_loss: 1.0551 - val_wine_type_loss: 0.0752 - val_wine_quality_mse: 1.0556 - val_wine_type_accuracy: 0.9886\n",
      "Epoch 13/180\n",
      "3155/3155 [==============================] - 0s 56us/sample - loss: 1.1494 - wine_quality_loss: 1.0747 - wine_type_loss: 0.0765 - wine_quality_mse: 1.0732 - wine_type_accuracy: 0.9889 - val_loss: 1.0487 - val_wine_quality_loss: 0.9876 - val_wine_type_loss: 0.0673 - val_wine_quality_mse: 0.9812 - val_wine_type_accuracy: 0.9899\n",
      "Epoch 14/180\n",
      "3155/3155 [==============================] - 0s 49us/sample - loss: 1.0768 - wine_quality_loss: 1.0067 - wine_type_loss: 0.0693 - wine_quality_mse: 1.0074 - wine_type_accuracy: 0.9899 - val_loss: 0.9896 - val_wine_quality_loss: 0.9288 - val_wine_type_loss: 0.0623 - val_wine_quality_mse: 0.9283 - val_wine_type_accuracy: 0.9899\n",
      "Epoch 15/180\n",
      "3155/3155 [==============================] - 0s 53us/sample - loss: 1.0129 - wine_quality_loss: 0.9493 - wine_type_loss: 0.0638 - wine_quality_mse: 0.9490 - wine_type_accuracy: 0.9899 - val_loss: 0.9190 - val_wine_quality_loss: 0.8626 - val_wine_type_loss: 0.0562 - val_wine_quality_mse: 0.8624 - val_wine_type_accuracy: 0.9899\n",
      "Epoch 16/180\n",
      "3155/3155 [==============================] - 0s 55us/sample - loss: 0.9606 - wine_quality_loss: 0.9000 - wine_type_loss: 0.0596 - wine_quality_mse: 0.9009 - wine_type_accuracy: 0.9895 - val_loss: 0.8785 - val_wine_quality_loss: 0.8273 - val_wine_type_loss: 0.0526 - val_wine_quality_mse: 0.8256 - val_wine_type_accuracy: 0.9899\n",
      "Epoch 17/180\n",
      "3155/3155 [==============================] - 0s 67us/sample - loss: 0.9059 - wine_quality_loss: 0.8510 - wine_type_loss: 0.0561 - wine_quality_mse: 0.8500 - wine_type_accuracy: 0.9895 - val_loss: 0.8421 - val_wine_quality_loss: 0.7925 - val_wine_type_loss: 0.0495 - val_wine_quality_mse: 0.7928 - val_wine_type_accuracy: 0.9911\n",
      "Epoch 18/180\n",
      "3155/3155 [==============================] - 0s 53us/sample - loss: 0.8557 - wine_quality_loss: 0.8023 - wine_type_loss: 0.0527 - wine_quality_mse: 0.8029 - wine_type_accuracy: 0.9902 - val_loss: 0.7812 - val_wine_quality_loss: 0.7329 - val_wine_type_loss: 0.0465 - val_wine_quality_mse: 0.7343 - val_wine_type_accuracy: 0.9899\n",
      "Epoch 19/180\n",
      "3155/3155 [==============================] - 0s 49us/sample - loss: 0.8092 - wine_quality_loss: 0.7594 - wine_type_loss: 0.0500 - wine_quality_mse: 0.7591 - wine_type_accuracy: 0.9902 - val_loss: 0.7425 - val_wine_quality_loss: 0.6950 - val_wine_type_loss: 0.0440 - val_wine_quality_mse: 0.6979 - val_wine_type_accuracy: 0.9924\n",
      "Epoch 20/180\n",
      "3155/3155 [==============================] - 0s 50us/sample - loss: 0.7688 - wine_quality_loss: 0.7202 - wine_type_loss: 0.0478 - wine_quality_mse: 0.7208 - wine_type_accuracy: 0.9911 - val_loss: 0.6959 - val_wine_quality_loss: 0.6536 - val_wine_type_loss: 0.0422 - val_wine_quality_mse: 0.6533 - val_wine_type_accuracy: 0.9924\n",
      "Epoch 21/180\n",
      "3155/3155 [==============================] - 0s 50us/sample - loss: 0.7311 - wine_quality_loss: 0.6854 - wine_type_loss: 0.0463 - wine_quality_mse: 0.6851 - wine_type_accuracy: 0.9911 - val_loss: 0.6626 - val_wine_quality_loss: 0.6189 - val_wine_type_loss: 0.0407 - val_wine_quality_mse: 0.6215 - val_wine_type_accuracy: 0.9924\n",
      "Epoch 22/180\n",
      "3155/3155 [==============================] - 0s 57us/sample - loss: 0.6935 - wine_quality_loss: 0.6489 - wine_type_loss: 0.0442 - wine_quality_mse: 0.6493 - wine_type_accuracy: 0.9911 - val_loss: 0.6330 - val_wine_quality_loss: 0.5936 - val_wine_type_loss: 0.0394 - val_wine_quality_mse: 0.5934 - val_wine_type_accuracy: 0.9924\n",
      "Epoch 23/180\n",
      "3155/3155 [==============================] - 0s 48us/sample - loss: 0.6605 - wine_quality_loss: 0.6180 - wine_type_loss: 0.0426 - wine_quality_mse: 0.6177 - wine_type_accuracy: 0.9914 - val_loss: 0.6036 - val_wine_quality_loss: 0.5633 - val_wine_type_loss: 0.0381 - val_wine_quality_mse: 0.5653 - val_wine_type_accuracy: 0.9949\n",
      "Epoch 24/180\n",
      "3155/3155 [==============================] - 0s 68us/sample - loss: 0.6304 - wine_quality_loss: 0.5874 - wine_type_loss: 0.0414 - wine_quality_mse: 0.5890 - wine_type_accuracy: 0.9921 - val_loss: 0.5672 - val_wine_quality_loss: 0.5341 - val_wine_type_loss: 0.0372 - val_wine_quality_mse: 0.5297 - val_wine_type_accuracy: 0.9949\n",
      "Epoch 25/180\n",
      "3155/3155 [==============================] - 0s 58us/sample - loss: 0.6040 - wine_quality_loss: 0.5626 - wine_type_loss: 0.0402 - wine_quality_mse: 0.5637 - wine_type_accuracy: 0.9927 - val_loss: 0.5485 - val_wine_quality_loss: 0.5106 - val_wine_type_loss: 0.0405 - val_wine_quality_mse: 0.5120 - val_wine_type_accuracy: 0.9949\n",
      "Epoch 26/180\n",
      "3155/3155 [==============================] - 0s 52us/sample - loss: 0.5759 - wine_quality_loss: 0.5371 - wine_type_loss: 0.0391 - wine_quality_mse: 0.5366 - wine_type_accuracy: 0.9930 - val_loss: 0.5416 - val_wine_quality_loss: 0.5052 - val_wine_type_loss: 0.0351 - val_wine_quality_mse: 0.5060 - val_wine_type_accuracy: 0.9949\n",
      "Epoch 27/180\n",
      "3155/3155 [==============================] - 0s 43us/sample - loss: 0.5548 - wine_quality_loss: 0.5159 - wine_type_loss: 0.0385 - wine_quality_mse: 0.5165 - wine_type_accuracy: 0.9937 - val_loss: 0.5024 - val_wine_quality_loss: 0.4673 - val_wine_type_loss: 0.0346 - val_wine_quality_mse: 0.4674 - val_wine_type_accuracy: 0.9949\n",
      "Epoch 28/180\n",
      "3155/3155 [==============================] - 0s 51us/sample - loss: 0.5338 - wine_quality_loss: 0.4959 - wine_type_loss: 0.0374 - wine_quality_mse: 0.4963 - wine_type_accuracy: 0.9937 - val_loss: 0.4829 - val_wine_quality_loss: 0.4478 - val_wine_type_loss: 0.0339 - val_wine_quality_mse: 0.4486 - val_wine_type_accuracy: 0.9949\n",
      "Epoch 29/180\n",
      "3155/3155 [==============================] - 0s 51us/sample - loss: 0.5139 - wine_quality_loss: 0.4771 - wine_type_loss: 0.0366 - wine_quality_mse: 0.4772 - wine_type_accuracy: 0.9937 - val_loss: 0.4672 - val_wine_quality_loss: 0.4319 - val_wine_type_loss: 0.0333 - val_wine_quality_mse: 0.4335 - val_wine_type_accuracy: 0.9949\n",
      "Epoch 30/180\n",
      "3155/3155 [==============================] - 0s 54us/sample - loss: 0.4952 - wine_quality_loss: 0.4590 - wine_type_loss: 0.0359 - wine_quality_mse: 0.4592 - wine_type_accuracy: 0.9937 - val_loss: 0.4509 - val_wine_quality_loss: 0.4192 - val_wine_type_loss: 0.0332 - val_wine_quality_mse: 0.4175 - val_wine_type_accuracy: 0.9949\n",
      "Epoch 31/180\n",
      "3155/3155 [==============================] - 0s 66us/sample - loss: 0.4793 - wine_quality_loss: 0.4441 - wine_type_loss: 0.0352 - wine_quality_mse: 0.4439 - wine_type_accuracy: 0.9937 - val_loss: 0.4394 - val_wine_quality_loss: 0.4059 - val_wine_type_loss: 0.0328 - val_wine_quality_mse: 0.4065 - val_wine_type_accuracy: 0.9949\n",
      "Epoch 32/180\n",
      "3155/3155 [==============================] - 0s 52us/sample - loss: 0.4668 - wine_quality_loss: 0.4324 - wine_type_loss: 0.0346 - wine_quality_mse: 0.4320 - wine_type_accuracy: 0.9937 - val_loss: 0.4229 - val_wine_quality_loss: 0.3911 - val_wine_type_loss: 0.0322 - val_wine_quality_mse: 0.3905 - val_wine_type_accuracy: 0.9949\n",
      "Epoch 33/180\n",
      "3155/3155 [==============================] - 0s 48us/sample - loss: 0.4526 - wine_quality_loss: 0.4184 - wine_type_loss: 0.0341 - wine_quality_mse: 0.4184 - wine_type_accuracy: 0.9933 - val_loss: 0.4126 - val_wine_quality_loss: 0.3796 - val_wine_type_loss: 0.0321 - val_wine_quality_mse: 0.3804 - val_wine_type_accuracy: 0.9962\n",
      "Epoch 34/180\n",
      "3155/3155 [==============================] - 0s 55us/sample - loss: 0.4399 - wine_quality_loss: 0.4053 - wine_type_loss: 0.0336 - wine_quality_mse: 0.4062 - wine_type_accuracy: 0.9940 - val_loss: 0.4017 - val_wine_quality_loss: 0.3723 - val_wine_type_loss: 0.0315 - val_wine_quality_mse: 0.3699 - val_wine_type_accuracy: 0.9962\n",
      "Epoch 35/180\n",
      "3155/3155 [==============================] - 0s 63us/sample - loss: 0.4287 - wine_quality_loss: 0.3948 - wine_type_loss: 0.0331 - wine_quality_mse: 0.3955 - wine_type_accuracy: 0.9940 - val_loss: 0.3972 - val_wine_quality_loss: 0.3660 - val_wine_type_loss: 0.0314 - val_wine_quality_mse: 0.3656 - val_wine_type_accuracy: 0.9962\n",
      "Epoch 36/180\n",
      "3155/3155 [==============================] - 0s 50us/sample - loss: 0.4197 - wine_quality_loss: 0.3890 - wine_type_loss: 0.0331 - wine_quality_mse: 0.3870 - wine_type_accuracy: 0.9940 - val_loss: 0.3931 - val_wine_quality_loss: 0.3599 - val_wine_type_loss: 0.0309 - val_wine_quality_mse: 0.3619 - val_wine_type_accuracy: 0.9949\n",
      "Epoch 37/180\n",
      "3155/3155 [==============================] - 0s 60us/sample - loss: 0.4103 - wine_quality_loss: 0.3782 - wine_type_loss: 0.0322 - wine_quality_mse: 0.3781 - wine_type_accuracy: 0.9943 - val_loss: 0.3837 - val_wine_quality_loss: 0.3510 - val_wine_type_loss: 0.0308 - val_wine_quality_mse: 0.3525 - val_wine_type_accuracy: 0.9962\n",
      "Epoch 38/180\n",
      "3155/3155 [==============================] - 0s 52us/sample - loss: 0.4043 - wine_quality_loss: 0.3722 - wine_type_loss: 0.0318 - wine_quality_mse: 0.3725 - wine_type_accuracy: 0.9943 - val_loss: 0.3811 - val_wine_quality_loss: 0.3513 - val_wine_type_loss: 0.0305 - val_wine_quality_mse: 0.3503 - val_wine_type_accuracy: 0.9949\n",
      "Epoch 39/180\n",
      "3155/3155 [==============================] - 0s 60us/sample - loss: 0.3961 - wine_quality_loss: 0.3661 - wine_type_loss: 0.0315 - wine_quality_mse: 0.3645 - wine_type_accuracy: 0.9940 - val_loss: 0.3791 - val_wine_quality_loss: 0.3471 - val_wine_type_loss: 0.0303 - val_wine_quality_mse: 0.3485 - val_wine_type_accuracy: 0.9962\n",
      "Epoch 40/180\n",
      "3155/3155 [==============================] - 0s 57us/sample - loss: 0.3910 - wine_quality_loss: 0.3601 - wine_type_loss: 0.0310 - wine_quality_mse: 0.3599 - wine_type_accuracy: 0.9943 - val_loss: 0.3713 - val_wine_quality_loss: 0.3422 - val_wine_type_loss: 0.0300 - val_wine_quality_mse: 0.3410 - val_wine_type_accuracy: 0.9949\n",
      "Epoch 41/180\n",
      "3155/3155 [==============================] - 0s 51us/sample - loss: 0.3868 - wine_quality_loss: 0.3555 - wine_type_loss: 0.0307 - wine_quality_mse: 0.3560 - wine_type_accuracy: 0.9943 - val_loss: 0.3673 - val_wine_quality_loss: 0.3349 - val_wine_type_loss: 0.0299 - val_wine_quality_mse: 0.3371 - val_wine_type_accuracy: 0.9949\n",
      "Epoch 42/180\n",
      "3155/3155 [==============================] - 0s 57us/sample - loss: 0.3795 - wine_quality_loss: 0.3483 - wine_type_loss: 0.0304 - wine_quality_mse: 0.3490 - wine_type_accuracy: 0.9946 - val_loss: 0.3615 - val_wine_quality_loss: 0.3316 - val_wine_type_loss: 0.0301 - val_wine_quality_mse: 0.3314 - val_wine_type_accuracy: 0.9949\n",
      "Epoch 43/180\n",
      "3155/3155 [==============================] - 0s 54us/sample - loss: 0.3757 - wine_quality_loss: 0.3460 - wine_type_loss: 0.0300 - wine_quality_mse: 0.3456 - wine_type_accuracy: 0.9949 - val_loss: 0.3600 - val_wine_quality_loss: 0.3294 - val_wine_type_loss: 0.0295 - val_wine_quality_mse: 0.3301 - val_wine_type_accuracy: 0.9949\n",
      "Epoch 44/180\n",
      "3155/3155 [==============================] - 0s 52us/sample - loss: 0.3721 - wine_quality_loss: 0.3436 - wine_type_loss: 0.0297 - wine_quality_mse: 0.3423 - wine_type_accuracy: 0.9949 - val_loss: 0.3558 - val_wine_quality_loss: 0.3273 - val_wine_type_loss: 0.0295 - val_wine_quality_mse: 0.3260 - val_wine_type_accuracy: 0.9949\n",
      "Epoch 45/180\n",
      "3155/3155 [==============================] - 0s 49us/sample - loss: 0.3681 - wine_quality_loss: 0.3388 - wine_type_loss: 0.0294 - wine_quality_mse: 0.3386 - wine_type_accuracy: 0.9946 - val_loss: 0.3546 - val_wine_quality_loss: 0.3238 - val_wine_type_loss: 0.0292 - val_wine_quality_mse: 0.3251 - val_wine_type_accuracy: 0.9949\n",
      "Epoch 46/180\n",
      "3155/3155 [==============================] - 0s 49us/sample - loss: 0.3645 - wine_quality_loss: 0.3354 - wine_type_loss: 0.0291 - wine_quality_mse: 0.3353 - wine_type_accuracy: 0.9946 - val_loss: 0.3508 - val_wine_quality_loss: 0.3195 - val_wine_type_loss: 0.0289 - val_wine_quality_mse: 0.3216 - val_wine_type_accuracy: 0.9949\n",
      "Epoch 47/180\n",
      "3155/3155 [==============================] - 0s 52us/sample - loss: 0.3620 - wine_quality_loss: 0.3330 - wine_type_loss: 0.0288 - wine_quality_mse: 0.3330 - wine_type_accuracy: 0.9949 - val_loss: 0.3534 - val_wine_quality_loss: 0.3240 - val_wine_type_loss: 0.0292 - val_wine_quality_mse: 0.3242 - val_wine_type_accuracy: 0.9949\n",
      "Epoch 48/180\n"
     ]
    },
    {
     "name": "stdout",
     "output_type": "stream",
     "text": [
      "3155/3155 [==============================] - 0s 71us/sample - loss: 0.3594 - wine_quality_loss: 0.3308 - wine_type_loss: 0.0287 - wine_quality_mse: 0.3307 - wine_type_accuracy: 0.9946 - val_loss: 0.3496 - val_wine_quality_loss: 0.3210 - val_wine_type_loss: 0.0287 - val_wine_quality_mse: 0.3206 - val_wine_type_accuracy: 0.9949\n",
      "Epoch 49/180\n",
      "3155/3155 [==============================] - 0s 54us/sample - loss: 0.3548 - wine_quality_loss: 0.3267 - wine_type_loss: 0.0284 - wine_quality_mse: 0.3264 - wine_type_accuracy: 0.9949 - val_loss: 0.3524 - val_wine_quality_loss: 0.3224 - val_wine_type_loss: 0.0308 - val_wine_quality_mse: 0.3233 - val_wine_type_accuracy: 0.9949\n",
      "Epoch 50/180\n",
      "3155/3155 [==============================] - 0s 63us/sample - loss: 0.3535 - wine_quality_loss: 0.3256 - wine_type_loss: 0.0281 - wine_quality_mse: 0.3254 - wine_type_accuracy: 0.9946 - val_loss: 0.3508 - val_wine_quality_loss: 0.3205 - val_wine_type_loss: 0.0286 - val_wine_quality_mse: 0.3218 - val_wine_type_accuracy: 0.9949\n",
      "Epoch 51/180\n",
      "3155/3155 [==============================] - 0s 46us/sample - loss: 0.3521 - wine_quality_loss: 0.3245 - wine_type_loss: 0.0285 - wine_quality_mse: 0.3242 - wine_type_accuracy: 0.9949 - val_loss: 0.3473 - val_wine_quality_loss: 0.3177 - val_wine_type_loss: 0.0285 - val_wine_quality_mse: 0.3185 - val_wine_type_accuracy: 0.9949\n",
      "Epoch 52/180\n",
      "3155/3155 [==============================] - 0s 56us/sample - loss: 0.3487 - wine_quality_loss: 0.3204 - wine_type_loss: 0.0276 - wine_quality_mse: 0.3211 - wine_type_accuracy: 0.9946 - val_loss: 0.3464 - val_wine_quality_loss: 0.3181 - val_wine_type_loss: 0.0285 - val_wine_quality_mse: 0.3177 - val_wine_type_accuracy: 0.9949\n",
      "Epoch 53/180\n",
      "3155/3155 [==============================] - 0s 51us/sample - loss: 0.3480 - wine_quality_loss: 0.3204 - wine_type_loss: 0.0274 - wine_quality_mse: 0.3205 - wine_type_accuracy: 0.9946 - val_loss: 0.3428 - val_wine_quality_loss: 0.3138 - val_wine_type_loss: 0.0282 - val_wine_quality_mse: 0.3144 - val_wine_type_accuracy: 0.9949\n",
      "Epoch 54/180\n",
      "3155/3155 [==============================] - 0s 53us/sample - loss: 0.3455 - wine_quality_loss: 0.3178 - wine_type_loss: 0.0272 - wine_quality_mse: 0.3182 - wine_type_accuracy: 0.9946 - val_loss: 0.3480 - val_wine_quality_loss: 0.3184 - val_wine_type_loss: 0.0330 - val_wine_quality_mse: 0.3196 - val_wine_type_accuracy: 0.9949\n",
      "Epoch 55/180\n",
      "3155/3155 [==============================] - 0s 50us/sample - loss: 0.3441 - wine_quality_loss: 0.3174 - wine_type_loss: 0.0270 - wine_quality_mse: 0.3170 - wine_type_accuracy: 0.9949 - val_loss: 0.3464 - val_wine_quality_loss: 0.3165 - val_wine_type_loss: 0.0279 - val_wine_quality_mse: 0.3182 - val_wine_type_accuracy: 0.9949\n",
      "Epoch 56/180\n",
      "3155/3155 [==============================] - 0s 50us/sample - loss: 0.3423 - wine_quality_loss: 0.3153 - wine_type_loss: 0.0268 - wine_quality_mse: 0.3154 - wine_type_accuracy: 0.9949 - val_loss: 0.3427 - val_wine_quality_loss: 0.3153 - val_wine_type_loss: 0.0296 - val_wine_quality_mse: 0.3147 - val_wine_type_accuracy: 0.9949\n",
      "Epoch 57/180\n",
      "3155/3155 [==============================] - 0s 56us/sample - loss: 0.3412 - wine_quality_loss: 0.3143 - wine_type_loss: 0.0268 - wine_quality_mse: 0.3145 - wine_type_accuracy: 0.9949 - val_loss: 0.3390 - val_wine_quality_loss: 0.3139 - val_wine_type_loss: 0.0325 - val_wine_quality_mse: 0.3111 - val_wine_type_accuracy: 0.9949\n",
      "Epoch 58/180\n",
      "3155/3155 [==============================] - 0s 50us/sample - loss: 0.3402 - wine_quality_loss: 0.3136 - wine_type_loss: 0.0264 - wine_quality_mse: 0.3138 - wine_type_accuracy: 0.9949 - val_loss: 0.3389 - val_wine_quality_loss: 0.3101 - val_wine_type_loss: 0.0275 - val_wine_quality_mse: 0.3111 - val_wine_type_accuracy: 0.9949\n",
      "Epoch 59/180\n",
      "3155/3155 [==============================] - 0s 65us/sample - loss: 0.3383 - wine_quality_loss: 0.3119 - wine_type_loss: 0.0263 - wine_quality_mse: 0.3120 - wine_type_accuracy: 0.9949 - val_loss: 0.3424 - val_wine_quality_loss: 0.3140 - val_wine_type_loss: 0.0275 - val_wine_quality_mse: 0.3145 - val_wine_type_accuracy: 0.9949\n",
      "Epoch 60/180\n",
      "3155/3155 [==============================] - 0s 57us/sample - loss: 0.3372 - wine_quality_loss: 0.3110 - wine_type_loss: 0.0260 - wine_quality_mse: 0.3111 - wine_type_accuracy: 0.9952 - val_loss: 0.3377 - val_wine_quality_loss: 0.3092 - val_wine_type_loss: 0.0323 - val_wine_quality_mse: 0.3100 - val_wine_type_accuracy: 0.9949\n",
      "Epoch 61/180\n",
      "3155/3155 [==============================] - 0s 48us/sample - loss: 0.3353 - wine_quality_loss: 0.3095 - wine_type_loss: 0.0258 - wine_quality_mse: 0.3094 - wine_type_accuracy: 0.9949 - val_loss: 0.3425 - val_wine_quality_loss: 0.3136 - val_wine_type_loss: 0.0275 - val_wine_quality_mse: 0.3147 - val_wine_type_accuracy: 0.9949\n",
      "Epoch 62/180\n",
      "3155/3155 [==============================] - 0s 55us/sample - loss: 0.3339 - wine_quality_loss: 0.3079 - wine_type_loss: 0.0257 - wine_quality_mse: 0.3081 - wine_type_accuracy: 0.9956 - val_loss: 0.3449 - val_wine_quality_loss: 0.3195 - val_wine_type_loss: 0.0274 - val_wine_quality_mse: 0.3171 - val_wine_type_accuracy: 0.9937\n",
      "Epoch 63/180\n",
      "3155/3155 [==============================] - 0s 53us/sample - loss: 0.3329 - wine_quality_loss: 0.3074 - wine_type_loss: 0.0255 - wine_quality_mse: 0.3072 - wine_type_accuracy: 0.9952 - val_loss: 0.3358 - val_wine_quality_loss: 0.3072 - val_wine_type_loss: 0.0272 - val_wine_quality_mse: 0.3083 - val_wine_type_accuracy: 0.9949\n",
      "Epoch 64/180\n",
      "3155/3155 [==============================] - 0s 56us/sample - loss: 0.3328 - wine_quality_loss: 0.3077 - wine_type_loss: 0.0253 - wine_quality_mse: 0.3074 - wine_type_accuracy: 0.9952 - val_loss: 0.3437 - val_wine_quality_loss: 0.3166 - val_wine_type_loss: 0.0272 - val_wine_quality_mse: 0.3162 - val_wine_type_accuracy: 0.9949\n",
      "Epoch 65/180\n",
      "3155/3155 [==============================] - 0s 69us/sample - loss: 0.3315 - wine_quality_loss: 0.3057 - wine_type_loss: 0.0252 - wine_quality_mse: 0.3063 - wine_type_accuracy: 0.9956 - val_loss: 0.3362 - val_wine_quality_loss: 0.3090 - val_wine_type_loss: 0.0269 - val_wine_quality_mse: 0.3089 - val_wine_type_accuracy: 0.9949\n",
      "Epoch 66/180\n",
      "3155/3155 [==============================] - ETA: 0s - loss: 0.3192 - wine_quality_loss: 0.2988 - wine_type_loss: 0.0204 - wine_quality_mse: 0.2988 - wine_type_accuracy: 0.99 - 0s 57us/sample - loss: 0.3304 - wine_quality_loss: 0.3052 - wine_type_loss: 0.0250 - wine_quality_mse: 0.3053 - wine_type_accuracy: 0.9959 - val_loss: 0.3385 - val_wine_quality_loss: 0.3124 - val_wine_type_loss: 0.0272 - val_wine_quality_mse: 0.3114 - val_wine_type_accuracy: 0.9949\n",
      "Epoch 67/180\n",
      "3155/3155 [==============================] - 0s 63us/sample - loss: 0.3294 - wine_quality_loss: 0.3049 - wine_type_loss: 0.0249 - wine_quality_mse: 0.3045 - wine_type_accuracy: 0.9959 - val_loss: 0.3394 - val_wine_quality_loss: 0.3134 - val_wine_type_loss: 0.0267 - val_wine_quality_mse: 0.3124 - val_wine_type_accuracy: 0.9949\n",
      "Epoch 68/180\n",
      "3155/3155 [==============================] - 0s 61us/sample - loss: 0.3288 - wine_quality_loss: 0.3040 - wine_type_loss: 0.0246 - wine_quality_mse: 0.3041 - wine_type_accuracy: 0.9956 - val_loss: 0.3417 - val_wine_quality_loss: 0.3168 - val_wine_type_loss: 0.0269 - val_wine_quality_mse: 0.3147 - val_wine_type_accuracy: 0.9949\n",
      "Epoch 69/180\n",
      "3155/3155 [==============================] - 0s 55us/sample - loss: 0.3265 - wine_quality_loss: 0.3017 - wine_type_loss: 0.0245 - wine_quality_mse: 0.3019 - wine_type_accuracy: 0.9959 - val_loss: 0.3383 - val_wine_quality_loss: 0.3108 - val_wine_type_loss: 0.0265 - val_wine_quality_mse: 0.3115 - val_wine_type_accuracy: 0.9949\n",
      "Epoch 70/180\n",
      "3155/3155 [==============================] - 0s 52us/sample - loss: 0.3262 - wine_quality_loss: 0.3017 - wine_type_loss: 0.0244 - wine_quality_mse: 0.3018 - wine_type_accuracy: 0.9959 - val_loss: 0.3398 - val_wine_quality_loss: 0.3136 - val_wine_type_loss: 0.0265 - val_wine_quality_mse: 0.3130 - val_wine_type_accuracy: 0.9949\n",
      "Epoch 71/180\n",
      "3155/3155 [==============================] - 0s 51us/sample - loss: 0.3261 - wine_quality_loss: 0.3015 - wine_type_loss: 0.0242 - wine_quality_mse: 0.3018 - wine_type_accuracy: 0.9959 - val_loss: 0.3398 - val_wine_quality_loss: 0.3133 - val_wine_type_loss: 0.0269 - val_wine_quality_mse: 0.3130 - val_wine_type_accuracy: 0.9949\n"
     ]
    },
    {
     "name": "stdout",
     "output_type": "stream",
     "text": [
      "Epoch 72/180\n",
      "3155/3155 [==============================] - 0s 57us/sample - loss: 0.3232 - wine_quality_loss: 0.2997 - wine_type_loss: 0.0241 - wine_quality_mse: 0.2990 - wine_type_accuracy: 0.9956 - val_loss: 0.3357 - val_wine_quality_loss: 0.3113 - val_wine_type_loss: 0.0313 - val_wine_quality_mse: 0.3091 - val_wine_type_accuracy: 0.9949\n",
      "Epoch 73/180\n",
      "3155/3155 [==============================] - 0s 68us/sample - loss: 0.3245 - wine_quality_loss: 0.3007 - wine_type_loss: 0.0239 - wine_quality_mse: 0.3005 - wine_type_accuracy: 0.9959 - val_loss: 0.3371 - val_wine_quality_loss: 0.3106 - val_wine_type_loss: 0.0263 - val_wine_quality_mse: 0.3104 - val_wine_type_accuracy: 0.9949\n",
      "Epoch 74/180\n",
      "3155/3155 [==============================] - 0s 48us/sample - loss: 0.3226 - wine_quality_loss: 0.2986 - wine_type_loss: 0.0238 - wine_quality_mse: 0.2987 - wine_type_accuracy: 0.9956 - val_loss: 0.3373 - val_wine_quality_loss: 0.3103 - val_wine_type_loss: 0.0261 - val_wine_quality_mse: 0.3109 - val_wine_type_accuracy: 0.9949\n",
      "Epoch 75/180\n",
      "3155/3155 [==============================] - 0s 46us/sample - loss: 0.3215 - wine_quality_loss: 0.2983 - wine_type_loss: 0.0236 - wine_quality_mse: 0.2978 - wine_type_accuracy: 0.9959 - val_loss: 0.3363 - val_wine_quality_loss: 0.3082 - val_wine_type_loss: 0.0261 - val_wine_quality_mse: 0.3099 - val_wine_type_accuracy: 0.9949\n",
      "Epoch 76/180\n",
      "3155/3155 [==============================] - 0s 52us/sample - loss: 0.3204 - wine_quality_loss: 0.2967 - wine_type_loss: 0.0235 - wine_quality_mse: 0.2968 - wine_type_accuracy: 0.9959 - val_loss: 0.3408 - val_wine_quality_loss: 0.3128 - val_wine_type_loss: 0.0265 - val_wine_quality_mse: 0.3144 - val_wine_type_accuracy: 0.9949\n",
      "Epoch 77/180\n",
      "3155/3155 [==============================] - 0s 47us/sample - loss: 0.3200 - wine_quality_loss: 0.2961 - wine_type_loss: 0.0234 - wine_quality_mse: 0.2966 - wine_type_accuracy: 0.9962 - val_loss: 0.3381 - val_wine_quality_loss: 0.3125 - val_wine_type_loss: 0.0258 - val_wine_quality_mse: 0.3120 - val_wine_type_accuracy: 0.9949\n",
      "Epoch 78/180\n",
      "3155/3155 [==============================] - 0s 52us/sample - loss: 0.3192 - wine_quality_loss: 0.2961 - wine_type_loss: 0.0232 - wine_quality_mse: 0.2959 - wine_type_accuracy: 0.9959 - val_loss: 0.3393 - val_wine_quality_loss: 0.3143 - val_wine_type_loss: 0.0259 - val_wine_quality_mse: 0.3133 - val_wine_type_accuracy: 0.9949\n",
      "Epoch 79/180\n",
      "3155/3155 [==============================] - 0s 57us/sample - loss: 0.3184 - wine_quality_loss: 0.2952 - wine_type_loss: 0.0231 - wine_quality_mse: 0.2952 - wine_type_accuracy: 0.9959 - val_loss: 0.3371 - val_wine_quality_loss: 0.3109 - val_wine_type_loss: 0.0256 - val_wine_quality_mse: 0.3112 - val_wine_type_accuracy: 0.9949\n",
      "Epoch 80/180\n",
      "3155/3155 [==============================] - 0s 48us/sample - loss: 0.3169 - wine_quality_loss: 0.2940 - wine_type_loss: 0.0230 - wine_quality_mse: 0.2938 - wine_type_accuracy: 0.9959 - val_loss: 0.3348 - val_wine_quality_loss: 0.3075 - val_wine_type_loss: 0.0256 - val_wine_quality_mse: 0.3089 - val_wine_type_accuracy: 0.9949\n",
      "Epoch 81/180\n",
      "3155/3155 [==============================] - 0s 53us/sample - loss: 0.3167 - wine_quality_loss: 0.2933 - wine_type_loss: 0.0231 - wine_quality_mse: 0.2938 - wine_type_accuracy: 0.9959 - val_loss: 0.3350 - val_wine_quality_loss: 0.3088 - val_wine_type_loss: 0.0256 - val_wine_quality_mse: 0.3091 - val_wine_type_accuracy: 0.9949\n",
      "Epoch 82/180\n",
      "3155/3155 [==============================] - 0s 46us/sample - loss: 0.3170 - wine_quality_loss: 0.2947 - wine_type_loss: 0.0227 - wine_quality_mse: 0.2942 - wine_type_accuracy: 0.9962 - val_loss: 0.3325 - val_wine_quality_loss: 0.3060 - val_wine_type_loss: 0.0254 - val_wine_quality_mse: 0.3067 - val_wine_type_accuracy: 0.9949\n",
      "Epoch 83/180\n",
      "3155/3155 [==============================] - 0s 51us/sample - loss: 0.3155 - wine_quality_loss: 0.2930 - wine_type_loss: 0.0226 - wine_quality_mse: 0.2928 - wine_type_accuracy: 0.9962 - val_loss: 0.3413 - val_wine_quality_loss: 0.3153 - val_wine_type_loss: 0.0254 - val_wine_quality_mse: 0.3157 - val_wine_type_accuracy: 0.9949\n",
      "Epoch 84/180\n",
      "3155/3155 [==============================] - 0s 47us/sample - loss: 0.3152 - wine_quality_loss: 0.2927 - wine_type_loss: 0.0225 - wine_quality_mse: 0.2927 - wine_type_accuracy: 0.9962 - val_loss: 0.3317 - val_wine_quality_loss: 0.3084 - val_wine_type_loss: 0.0269 - val_wine_quality_mse: 0.3061 - val_wine_type_accuracy: 0.9949\n",
      "Epoch 85/180\n",
      "3155/3155 [==============================] - 0s 46us/sample - loss: 0.3140 - wine_quality_loss: 0.2918 - wine_type_loss: 0.0224 - wine_quality_mse: 0.2915 - wine_type_accuracy: 0.9962 - val_loss: 0.3343 - val_wine_quality_loss: 0.3078 - val_wine_type_loss: 0.0253 - val_wine_quality_mse: 0.3088 - val_wine_type_accuracy: 0.9949\n",
      "Epoch 86/180\n",
      "3155/3155 [==============================] - 0s 49us/sample - loss: 0.3130 - wine_quality_loss: 0.2903 - wine_type_loss: 0.0223 - wine_quality_mse: 0.2906 - wine_type_accuracy: 0.9962 - val_loss: 0.3366 - val_wine_quality_loss: 0.3116 - val_wine_type_loss: 0.0253 - val_wine_quality_mse: 0.3111 - val_wine_type_accuracy: 0.9949\n",
      "Epoch 87/180\n",
      "3155/3155 [==============================] - 0s 48us/sample - loss: 0.3140 - wine_quality_loss: 0.2918 - wine_type_loss: 0.0221 - wine_quality_mse: 0.2918 - wine_type_accuracy: 0.9962 - val_loss: 0.3339 - val_wine_quality_loss: 0.3090 - val_wine_type_loss: 0.0251 - val_wine_quality_mse: 0.3085 - val_wine_type_accuracy: 0.9949\n",
      "Epoch 88/180\n",
      "3155/3155 [==============================] - 0s 52us/sample - loss: 0.3128 - wine_quality_loss: 0.2903 - wine_type_loss: 0.0221 - wine_quality_mse: 0.2906 - wine_type_accuracy: 0.9962 - val_loss: 0.3399 - val_wine_quality_loss: 0.3157 - val_wine_type_loss: 0.0251 - val_wine_quality_mse: 0.3145 - val_wine_type_accuracy: 0.9949\n",
      "Epoch 89/180\n",
      "3155/3155 [==============================] - 0s 51us/sample - loss: 0.3123 - wine_quality_loss: 0.2895 - wine_type_loss: 0.0219 - wine_quality_mse: 0.2903 - wine_type_accuracy: 0.9962 - val_loss: 0.3416 - val_wine_quality_loss: 0.3147 - val_wine_type_loss: 0.0252 - val_wine_quality_mse: 0.3163 - val_wine_type_accuracy: 0.9949\n",
      "Epoch 90/180\n",
      "3155/3155 [==============================] - 0s 49us/sample - loss: 0.3122 - wine_quality_loss: 0.2902 - wine_type_loss: 0.0218 - wine_quality_mse: 0.2903 - wine_type_accuracy: 0.9962 - val_loss: 0.3342 - val_wine_quality_loss: 0.3096 - val_wine_type_loss: 0.0250 - val_wine_quality_mse: 0.3090 - val_wine_type_accuracy: 0.9949\n",
      "Epoch 91/180\n",
      "3155/3155 [==============================] - 0s 52us/sample - loss: 0.3102 - wine_quality_loss: 0.2886 - wine_type_loss: 0.0217 - wine_quality_mse: 0.2885 - wine_type_accuracy: 0.9962 - val_loss: 0.3389 - val_wine_quality_loss: 0.3151 - val_wine_type_loss: 0.0248 - val_wine_quality_mse: 0.3137 - val_wine_type_accuracy: 0.9949\n",
      "Epoch 92/180\n",
      "3155/3155 [==============================] - 0s 53us/sample - loss: 0.3097 - wine_quality_loss: 0.2888 - wine_type_loss: 0.0216 - wine_quality_mse: 0.2880 - wine_type_accuracy: 0.9962 - val_loss: 0.3372 - val_wine_quality_loss: 0.3134 - val_wine_type_loss: 0.0248 - val_wine_quality_mse: 0.3121 - val_wine_type_accuracy: 0.9949\n",
      "Epoch 93/180\n",
      "3155/3155 [==============================] - 0s 49us/sample - loss: 0.3100 - wine_quality_loss: 0.2888 - wine_type_loss: 0.0215 - wine_quality_mse: 0.2884 - wine_type_accuracy: 0.9962 - val_loss: 0.3383 - val_wine_quality_loss: 0.3115 - val_wine_type_loss: 0.0247 - val_wine_quality_mse: 0.3133 - val_wine_type_accuracy: 0.9949\n",
      "Epoch 94/180\n",
      "3155/3155 [==============================] - 0s 45us/sample - loss: 0.3091 - wine_quality_loss: 0.2875 - wine_type_loss: 0.0214 - wine_quality_mse: 0.2876 - wine_type_accuracy: 0.9962 - val_loss: 0.3428 - val_wine_quality_loss: 0.3162 - val_wine_type_loss: 0.0247 - val_wine_quality_mse: 0.3177 - val_wine_type_accuracy: 0.9949\n",
      "Epoch 95/180\n",
      "3155/3155 [==============================] - 0s 48us/sample - loss: 0.3084 - wine_quality_loss: 0.2868 - wine_type_loss: 0.0213 - wine_quality_mse: 0.2871 - wine_type_accuracy: 0.9962 - val_loss: 0.3343 - val_wine_quality_loss: 0.3082 - val_wine_type_loss: 0.0246 - val_wine_quality_mse: 0.3094 - val_wine_type_accuracy: 0.9949\n",
      "Epoch 96/180\n"
     ]
    },
    {
     "name": "stdout",
     "output_type": "stream",
     "text": [
      "3155/3155 [==============================] - 0s 45us/sample - loss: 0.3079 - wine_quality_loss: 0.2864 - wine_type_loss: 0.0212 - wine_quality_mse: 0.2866 - wine_type_accuracy: 0.9962 - val_loss: 0.3335 - val_wine_quality_loss: 0.3076 - val_wine_type_loss: 0.0248 - val_wine_quality_mse: 0.3086 - val_wine_type_accuracy: 0.9949\n",
      "Epoch 97/180\n",
      "3155/3155 [==============================] - 0s 45us/sample - loss: 0.3068 - wine_quality_loss: 0.2858 - wine_type_loss: 0.0211 - wine_quality_mse: 0.2856 - wine_type_accuracy: 0.9962 - val_loss: 0.3376 - val_wine_quality_loss: 0.3132 - val_wine_type_loss: 0.0245 - val_wine_quality_mse: 0.3127 - val_wine_type_accuracy: 0.9949\n",
      "Epoch 98/180\n",
      "3155/3155 [==============================] - 0s 67us/sample - loss: 0.3070 - wine_quality_loss: 0.2860 - wine_type_loss: 0.0210 - wine_quality_mse: 0.2860 - wine_type_accuracy: 0.9962 - val_loss: 0.3348 - val_wine_quality_loss: 0.3116 - val_wine_type_loss: 0.0297 - val_wine_quality_mse: 0.3100 - val_wine_type_accuracy: 0.9949\n",
      "Epoch 99/180\n",
      "3155/3155 [==============================] - 0s 46us/sample - loss: 0.3067 - wine_quality_loss: 0.2860 - wine_type_loss: 0.0209 - wine_quality_mse: 0.2857 - wine_type_accuracy: 0.9962 - val_loss: 0.3319 - val_wine_quality_loss: 0.3089 - val_wine_type_loss: 0.0244 - val_wine_quality_mse: 0.3071 - val_wine_type_accuracy: 0.9949\n",
      "Epoch 100/180\n",
      "3155/3155 [==============================] - 0s 49us/sample - loss: 0.3062 - wine_quality_loss: 0.2859 - wine_type_loss: 0.0208 - wine_quality_mse: 0.2854 - wine_type_accuracy: 0.9962 - val_loss: 0.3334 - val_wine_quality_loss: 0.3068 - val_wine_type_loss: 0.0245 - val_wine_quality_mse: 0.3087 - val_wine_type_accuracy: 0.9949\n",
      "Epoch 101/180\n",
      "3155/3155 [==============================] - 0s 53us/sample - loss: 0.3045 - wine_quality_loss: 0.2832 - wine_type_loss: 0.0207 - wine_quality_mse: 0.2838 - wine_type_accuracy: 0.9962 - val_loss: 0.3585 - val_wine_quality_loss: 0.3330 - val_wine_type_loss: 0.0259 - val_wine_quality_mse: 0.3337 - val_wine_type_accuracy: 0.9962\n",
      "Epoch 102/180\n",
      "3155/3155 [==============================] - 0s 58us/sample - loss: 0.3055 - wine_quality_loss: 0.2854 - wine_type_loss: 0.0206 - wine_quality_mse: 0.2849 - wine_type_accuracy: 0.9962 - val_loss: 0.3456 - val_wine_quality_loss: 0.3211 - val_wine_type_loss: 0.0244 - val_wine_quality_mse: 0.3209 - val_wine_type_accuracy: 0.9949\n",
      "Epoch 103/180\n",
      "3155/3155 [==============================] - 0s 60us/sample - loss: 0.3038 - wine_quality_loss: 0.2836 - wine_type_loss: 0.0206 - wine_quality_mse: 0.2832 - wine_type_accuracy: 0.9962 - val_loss: 0.3376 - val_wine_quality_loss: 0.3141 - val_wine_type_loss: 0.0244 - val_wine_quality_mse: 0.3129 - val_wine_type_accuracy: 0.9962\n",
      "Epoch 104/180\n",
      "3155/3155 [==============================] - 0s 60us/sample - loss: 0.3043 - wine_quality_loss: 0.2838 - wine_type_loss: 0.0204 - wine_quality_mse: 0.2838 - wine_type_accuracy: 0.9962 - val_loss: 0.3327 - val_wine_quality_loss: 0.3078 - val_wine_type_loss: 0.0244 - val_wine_quality_mse: 0.3081 - val_wine_type_accuracy: 0.9962\n",
      "Epoch 105/180\n",
      "3155/3155 [==============================] - 0s 72us/sample - loss: 0.3020 - wine_quality_loss: 0.2824 - wine_type_loss: 0.0204 - wine_quality_mse: 0.2816 - wine_type_accuracy: 0.9962 - val_loss: 0.3409 - val_wine_quality_loss: 0.3170 - val_wine_type_loss: 0.0244 - val_wine_quality_mse: 0.3163 - val_wine_type_accuracy: 0.9962\n",
      "Epoch 106/180\n",
      "3155/3155 [==============================] - 0s 60us/sample - loss: 0.3026 - wine_quality_loss: 0.2827 - wine_type_loss: 0.0204 - wine_quality_mse: 0.2823 - wine_type_accuracy: 0.9962 - val_loss: 0.3347 - val_wine_quality_loss: 0.3105 - val_wine_type_loss: 0.0243 - val_wine_quality_mse: 0.3101 - val_wine_type_accuracy: 0.9962\n",
      "Epoch 107/180\n",
      "3155/3155 [==============================] - 0s 59us/sample - loss: 0.3016 - wine_quality_loss: 0.2820 - wine_type_loss: 0.0212 - wine_quality_mse: 0.2814 - wine_type_accuracy: 0.9962 - val_loss: 0.3360 - val_wine_quality_loss: 0.3135 - val_wine_type_loss: 0.0241 - val_wine_quality_mse: 0.3116 - val_wine_type_accuracy: 0.9949\n",
      "Epoch 108/180\n",
      "3155/3155 [==============================] - 0s 53us/sample - loss: 0.3017 - wine_quality_loss: 0.2813 - wine_type_loss: 0.0201 - wine_quality_mse: 0.2816 - wine_type_accuracy: 0.9962 - val_loss: 0.3305 - val_wine_quality_loss: 0.3079 - val_wine_type_loss: 0.0241 - val_wine_quality_mse: 0.3061 - val_wine_type_accuracy: 0.9949\n",
      "Epoch 109/180\n",
      "3155/3155 [==============================] - 0s 70us/sample - loss: 0.3006 - wine_quality_loss: 0.2809 - wine_type_loss: 0.0200 - wine_quality_mse: 0.2805 - wine_type_accuracy: 0.9962 - val_loss: 0.3317 - val_wine_quality_loss: 0.3068 - val_wine_type_loss: 0.0241 - val_wine_quality_mse: 0.3073 - val_wine_type_accuracy: 0.9949\n",
      "Epoch 110/180\n",
      "3155/3155 [==============================] - 0s 57us/sample - loss: 0.3015 - wine_quality_loss: 0.2812 - wine_type_loss: 0.0200 - wine_quality_mse: 0.2815 - wine_type_accuracy: 0.9962 - val_loss: 0.3354 - val_wine_quality_loss: 0.3097 - val_wine_type_loss: 0.0241 - val_wine_quality_mse: 0.3111 - val_wine_type_accuracy: 0.9949\n",
      "Epoch 111/180\n",
      "3155/3155 [==============================] - 0s 67us/sample - loss: 0.3009 - wine_quality_loss: 0.2810 - wine_type_loss: 0.0198 - wine_quality_mse: 0.2811 - wine_type_accuracy: 0.9962 - val_loss: 0.3352 - val_wine_quality_loss: 0.3112 - val_wine_type_loss: 0.0239 - val_wine_quality_mse: 0.3110 - val_wine_type_accuracy: 0.9949\n",
      "Epoch 112/180\n",
      "3155/3155 [==============================] - 0s 59us/sample - loss: 0.3000 - wine_quality_loss: 0.2807 - wine_type_loss: 0.0197 - wine_quality_mse: 0.2802 - wine_type_accuracy: 0.9962 - val_loss: 0.3359 - val_wine_quality_loss: 0.3129 - val_wine_type_loss: 0.0240 - val_wine_quality_mse: 0.3116 - val_wine_type_accuracy: 0.9962\n",
      "Epoch 113/180\n",
      "3155/3155 [==============================] - 0s 74us/sample - loss: 0.2998 - wine_quality_loss: 0.2801 - wine_type_loss: 0.0196 - wine_quality_mse: 0.2801 - wine_type_accuracy: 0.9962 - val_loss: 0.3304 - val_wine_quality_loss: 0.3080 - val_wine_type_loss: 0.0240 - val_wine_quality_mse: 0.3062 - val_wine_type_accuracy: 0.9949\n",
      "Epoch 114/180\n",
      "3155/3155 [==============================] - 0s 64us/sample - loss: 0.2977 - wine_quality_loss: 0.2774 - wine_type_loss: 0.0195 - wine_quality_mse: 0.2781 - wine_type_accuracy: 0.9965 - val_loss: 0.3331 - val_wine_quality_loss: 0.3098 - val_wine_type_loss: 0.0239 - val_wine_quality_mse: 0.3089 - val_wine_type_accuracy: 0.9949\n",
      "Epoch 115/180\n",
      "3155/3155 [==============================] - 0s 59us/sample - loss: 0.2979 - wine_quality_loss: 0.2787 - wine_type_loss: 0.0195 - wine_quality_mse: 0.2784 - wine_type_accuracy: 0.9962 - val_loss: 0.3334 - val_wine_quality_loss: 0.3087 - val_wine_type_loss: 0.0239 - val_wine_quality_mse: 0.3092 - val_wine_type_accuracy: 0.9962\n",
      "Epoch 116/180\n",
      "3155/3155 [==============================] - 0s 59us/sample - loss: 0.2983 - wine_quality_loss: 0.2791 - wine_type_loss: 0.0194 - wine_quality_mse: 0.2788 - wine_type_accuracy: 0.9962 - val_loss: 0.3363 - val_wine_quality_loss: 0.3110 - val_wine_type_loss: 0.0240 - val_wine_quality_mse: 0.3120 - val_wine_type_accuracy: 0.9962\n",
      "Epoch 117/180\n",
      "3155/3155 [==============================] - 0s 53us/sample - loss: 0.2959 - wine_quality_loss: 0.2760 - wine_type_loss: 0.0193 - wine_quality_mse: 0.2765 - wine_type_accuracy: 0.9962 - val_loss: 0.3333 - val_wine_quality_loss: 0.3087 - val_wine_type_loss: 0.0238 - val_wine_quality_mse: 0.3091 - val_wine_type_accuracy: 0.9962\n",
      "Epoch 118/180\n",
      "3155/3155 [==============================] - 0s 62us/sample - loss: 0.2962 - wine_quality_loss: 0.2770 - wine_type_loss: 0.0193 - wine_quality_mse: 0.2769 - wine_type_accuracy: 0.9965 - val_loss: 0.3390 - val_wine_quality_loss: 0.3123 - val_wine_type_loss: 0.0243 - val_wine_quality_mse: 0.3148 - val_wine_type_accuracy: 0.9962\n",
      "Epoch 119/180\n",
      "3155/3155 [==============================] - 0s 56us/sample - loss: 0.2964 - wine_quality_loss: 0.2769 - wine_type_loss: 0.0192 - wine_quality_mse: 0.2771 - wine_type_accuracy: 0.9962 - val_loss: 0.3316 - val_wine_quality_loss: 0.3059 - val_wine_type_loss: 0.0269 - val_wine_quality_mse: 0.3075 - val_wine_type_accuracy: 0.9962\n",
      "Epoch 120/180\n"
     ]
    },
    {
     "name": "stdout",
     "output_type": "stream",
     "text": [
      "3155/3155 [==============================] - 0s 73us/sample - loss: 0.2964 - wine_quality_loss: 0.2772 - wine_type_loss: 0.0191 - wine_quality_mse: 0.2772 - wine_type_accuracy: 0.9962 - val_loss: 0.3404 - val_wine_quality_loss: 0.3195 - val_wine_type_loss: 0.0237 - val_wine_quality_mse: 0.3164 - val_wine_type_accuracy: 0.9962\n",
      "Epoch 121/180\n",
      "3155/3155 [==============================] - 0s 47us/sample - loss: 0.2959 - wine_quality_loss: 0.2767 - wine_type_loss: 0.0190 - wine_quality_mse: 0.2768 - wine_type_accuracy: 0.9962 - val_loss: 0.3332 - val_wine_quality_loss: 0.3098 - val_wine_type_loss: 0.0238 - val_wine_quality_mse: 0.3091 - val_wine_type_accuracy: 0.9962\n",
      "Epoch 122/180\n",
      "3155/3155 [==============================] - 0s 48us/sample - loss: 0.2946 - wine_quality_loss: 0.2752 - wine_type_loss: 0.0190 - wine_quality_mse: 0.2756 - wine_type_accuracy: 0.9962 - val_loss: 0.3340 - val_wine_quality_loss: 0.3095 - val_wine_type_loss: 0.0237 - val_wine_quality_mse: 0.3100 - val_wine_type_accuracy: 0.9962\n",
      "Epoch 123/180\n",
      "3155/3155 [==============================] - 0s 50us/sample - loss: 0.2952 - wine_quality_loss: 0.2764 - wine_type_loss: 0.0188 - wine_quality_mse: 0.2763 - wine_type_accuracy: 0.9962 - val_loss: 0.3303 - val_wine_quality_loss: 0.3059 - val_wine_type_loss: 0.0237 - val_wine_quality_mse: 0.3063 - val_wine_type_accuracy: 0.9962\n",
      "Epoch 124/180\n",
      "3155/3155 [==============================] - 0s 66us/sample - loss: 0.2950 - wine_quality_loss: 0.2768 - wine_type_loss: 0.0187 - wine_quality_mse: 0.2763 - wine_type_accuracy: 0.9962 - val_loss: 0.3304 - val_wine_quality_loss: 0.3066 - val_wine_type_loss: 0.0237 - val_wine_quality_mse: 0.3064 - val_wine_type_accuracy: 0.9962\n",
      "Epoch 125/180\n",
      "3155/3155 [==============================] - 0s 55us/sample - loss: 0.2925 - wine_quality_loss: 0.2733 - wine_type_loss: 0.0187 - wine_quality_mse: 0.2738 - wine_type_accuracy: 0.9962 - val_loss: 0.3291 - val_wine_quality_loss: 0.3041 - val_wine_type_loss: 0.0236 - val_wine_quality_mse: 0.3052 - val_wine_type_accuracy: 0.9962\n",
      "Epoch 126/180\n",
      "3155/3155 [==============================] - 0s 63us/sample - loss: 0.2929 - wine_quality_loss: 0.2748 - wine_type_loss: 0.0186 - wine_quality_mse: 0.2743 - wine_type_accuracy: 0.9965 - val_loss: 0.3310 - val_wine_quality_loss: 0.3072 - val_wine_type_loss: 0.0236 - val_wine_quality_mse: 0.3072 - val_wine_type_accuracy: 0.9962\n",
      "Epoch 127/180\n",
      "3155/3155 [==============================] - 0s 59us/sample - loss: 0.2933 - wine_quality_loss: 0.2754 - wine_type_loss: 0.0186 - wine_quality_mse: 0.2747 - wine_type_accuracy: 0.9965 - val_loss: 0.3327 - val_wine_quality_loss: 0.3082 - val_wine_type_loss: 0.0236 - val_wine_quality_mse: 0.3088 - val_wine_type_accuracy: 0.9962\n",
      "Epoch 128/180\n",
      "3155/3155 [==============================] - 0s 50us/sample - loss: 0.2932 - wine_quality_loss: 0.2747 - wine_type_loss: 0.0185 - wine_quality_mse: 0.2747 - wine_type_accuracy: 0.9965 - val_loss: 0.3314 - val_wine_quality_loss: 0.3074 - val_wine_type_loss: 0.0249 - val_wine_quality_mse: 0.3076 - val_wine_type_accuracy: 0.9962\n",
      "Epoch 129/180\n",
      "3155/3155 [==============================] - 0s 50us/sample - loss: 0.2926 - wine_quality_loss: 0.2737 - wine_type_loss: 0.0184 - wine_quality_mse: 0.2741 - wine_type_accuracy: 0.9965 - val_loss: 0.3283 - val_wine_quality_loss: 0.3048 - val_wine_type_loss: 0.0235 - val_wine_quality_mse: 0.3045 - val_wine_type_accuracy: 0.9962\n",
      "Epoch 130/180\n",
      "3155/3155 [==============================] - 0s 55us/sample - loss: 0.2920 - wine_quality_loss: 0.2732 - wine_type_loss: 0.0183 - wine_quality_mse: 0.2736 - wine_type_accuracy: 0.9965 - val_loss: 0.3372 - val_wine_quality_loss: 0.3134 - val_wine_type_loss: 0.0235 - val_wine_quality_mse: 0.3134 - val_wine_type_accuracy: 0.9962\n",
      "Epoch 131/180\n",
      "3155/3155 [==============================] - 0s 54us/sample - loss: 0.2911 - wine_quality_loss: 0.2729 - wine_type_loss: 0.0192 - wine_quality_mse: 0.2727 - wine_type_accuracy: 0.9965 - val_loss: 0.3398 - val_wine_quality_loss: 0.3148 - val_wine_type_loss: 0.0235 - val_wine_quality_mse: 0.3160 - val_wine_type_accuracy: 0.9962\n",
      "Epoch 132/180\n",
      "3155/3155 [==============================] - 0s 56us/sample - loss: 0.2910 - wine_quality_loss: 0.2727 - wine_type_loss: 0.0182 - wine_quality_mse: 0.2727 - wine_type_accuracy: 0.9965 - val_loss: 0.3281 - val_wine_quality_loss: 0.3049 - val_wine_type_loss: 0.0235 - val_wine_quality_mse: 0.3043 - val_wine_type_accuracy: 0.9962\n",
      "Epoch 133/180\n",
      "3155/3155 [==============================] - 0s 48us/sample - loss: 0.2906 - wine_quality_loss: 0.2724 - wine_type_loss: 0.0184 - wine_quality_mse: 0.2724 - wine_type_accuracy: 0.9965 - val_loss: 0.3397 - val_wine_quality_loss: 0.3140 - val_wine_type_loss: 0.0234 - val_wine_quality_mse: 0.3159 - val_wine_type_accuracy: 0.9962\n",
      "Epoch 134/180\n",
      "3155/3155 [==============================] - 0s 56us/sample - loss: 0.2900 - wine_quality_loss: 0.2718 - wine_type_loss: 0.0181 - wine_quality_mse: 0.2719 - wine_type_accuracy: 0.9965 - val_loss: 0.3278 - val_wine_quality_loss: 0.3038 - val_wine_type_loss: 0.0234 - val_wine_quality_mse: 0.3041 - val_wine_type_accuracy: 0.9962\n",
      "Epoch 135/180\n",
      "3155/3155 [==============================] - 0s 57us/sample - loss: 0.2906 - wine_quality_loss: 0.2726 - wine_type_loss: 0.0180 - wine_quality_mse: 0.2725 - wine_type_accuracy: 0.9965 - val_loss: 0.3321 - val_wine_quality_loss: 0.3073 - val_wine_type_loss: 0.0235 - val_wine_quality_mse: 0.3083 - val_wine_type_accuracy: 0.9962\n",
      "Epoch 136/180\n",
      "3155/3155 [==============================] - 0s 48us/sample - loss: 0.2892 - wine_quality_loss: 0.2710 - wine_type_loss: 0.0181 - wine_quality_mse: 0.2712 - wine_type_accuracy: 0.9965 - val_loss: 0.3288 - val_wine_quality_loss: 0.3038 - val_wine_type_loss: 0.0234 - val_wine_quality_mse: 0.3051 - val_wine_type_accuracy: 0.9962\n",
      "Epoch 137/180\n",
      "3155/3155 [==============================] - 0s 53us/sample - loss: 0.2889 - wine_quality_loss: 0.2711 - wine_type_loss: 0.0179 - wine_quality_mse: 0.2710 - wine_type_accuracy: 0.9965 - val_loss: 0.3327 - val_wine_quality_loss: 0.3103 - val_wine_type_loss: 0.0233 - val_wine_quality_mse: 0.3090 - val_wine_type_accuracy: 0.9962\n",
      "Epoch 138/180\n",
      "3155/3155 [==============================] - 0s 62us/sample - loss: 0.2878 - wine_quality_loss: 0.2700 - wine_type_loss: 0.0178 - wine_quality_mse: 0.2699 - wine_type_accuracy: 0.9965 - val_loss: 0.3343 - val_wine_quality_loss: 0.3111 - val_wine_type_loss: 0.0268 - val_wine_quality_mse: 0.3106 - val_wine_type_accuracy: 0.9962\n",
      "Epoch 139/180\n",
      "3155/3155 [==============================] - 0s 50us/sample - loss: 0.2874 - wine_quality_loss: 0.2693 - wine_type_loss: 0.0178 - wine_quality_mse: 0.2697 - wine_type_accuracy: 0.9965 - val_loss: 0.3354 - val_wine_quality_loss: 0.3118 - val_wine_type_loss: 0.0234 - val_wine_quality_mse: 0.3118 - val_wine_type_accuracy: 0.9962\n",
      "Epoch 140/180\n",
      "3155/3155 [==============================] - 0s 57us/sample - loss: 0.2876 - wine_quality_loss: 0.2702 - wine_type_loss: 0.0179 - wine_quality_mse: 0.2699 - wine_type_accuracy: 0.9965 - val_loss: 0.3274 - val_wine_quality_loss: 0.3050 - val_wine_type_loss: 0.0233 - val_wine_quality_mse: 0.3039 - val_wine_type_accuracy: 0.9962\n",
      "Epoch 141/180\n",
      "3155/3155 [==============================] - 0s 61us/sample - loss: 0.2867 - wine_quality_loss: 0.2685 - wine_type_loss: 0.0176 - wine_quality_mse: 0.2690 - wine_type_accuracy: 0.9965 - val_loss: 0.3301 - val_wine_quality_loss: 0.3062 - val_wine_type_loss: 0.0233 - val_wine_quality_mse: 0.3065 - val_wine_type_accuracy: 0.9962\n",
      "Epoch 142/180\n",
      "3155/3155 [==============================] - 0s 56us/sample - loss: 0.2866 - wine_quality_loss: 0.2689 - wine_type_loss: 0.0175 - wine_quality_mse: 0.2690 - wine_type_accuracy: 0.9965 - val_loss: 0.3477 - val_wine_quality_loss: 0.3265 - val_wine_type_loss: 0.0234 - val_wine_quality_mse: 0.3240 - val_wine_type_accuracy: 0.9962\n",
      "Epoch 143/180\n",
      "3155/3155 [==============================] - 0s 63us/sample - loss: 0.2869 - wine_quality_loss: 0.2698 - wine_type_loss: 0.0175 - wine_quality_mse: 0.2694 - wine_type_accuracy: 0.9965 - val_loss: 0.3291 - val_wine_quality_loss: 0.3043 - val_wine_type_loss: 0.0234 - val_wine_quality_mse: 0.3055 - val_wine_type_accuracy: 0.9962\n"
     ]
    },
    {
     "name": "stdout",
     "output_type": "stream",
     "text": [
      "Epoch 144/180\n",
      "3155/3155 [==============================] - 0s 51us/sample - loss: 0.2858 - wine_quality_loss: 0.2685 - wine_type_loss: 0.0174 - wine_quality_mse: 0.2684 - wine_type_accuracy: 0.9965 - val_loss: 0.3325 - val_wine_quality_loss: 0.3107 - val_wine_type_loss: 0.0234 - val_wine_quality_mse: 0.3088 - val_wine_type_accuracy: 0.9962\n",
      "Epoch 145/180\n",
      "3155/3155 [==============================] - 0s 53us/sample - loss: 0.2859 - wine_quality_loss: 0.2685 - wine_type_loss: 0.0173 - wine_quality_mse: 0.2685 - wine_type_accuracy: 0.9965 - val_loss: 0.3288 - val_wine_quality_loss: 0.3043 - val_wine_type_loss: 0.0234 - val_wine_quality_mse: 0.3052 - val_wine_type_accuracy: 0.9962\n",
      "Epoch 146/180\n",
      "3155/3155 [==============================] - 0s 55us/sample - loss: 0.2848 - wine_quality_loss: 0.2681 - wine_type_loss: 0.0185 - wine_quality_mse: 0.2674 - wine_type_accuracy: 0.9965 - val_loss: 0.3327 - val_wine_quality_loss: 0.3102 - val_wine_type_loss: 0.0288 - val_wine_quality_mse: 0.3091 - val_wine_type_accuracy: 0.9962\n",
      "Epoch 147/180\n",
      "3155/3155 [==============================] - 0s 58us/sample - loss: 0.2843 - wine_quality_loss: 0.2672 - wine_type_loss: 0.0172 - wine_quality_mse: 0.2670 - wine_type_accuracy: 0.9965 - val_loss: 0.3291 - val_wine_quality_loss: 0.3041 - val_wine_type_loss: 0.0234 - val_wine_quality_mse: 0.3055 - val_wine_type_accuracy: 0.9962\n",
      "Epoch 148/180\n",
      "3155/3155 [==============================] - 0s 57us/sample - loss: 0.2842 - wine_quality_loss: 0.2668 - wine_type_loss: 0.0172 - wine_quality_mse: 0.2670 - wine_type_accuracy: 0.9965 - val_loss: 0.3403 - val_wine_quality_loss: 0.3173 - val_wine_type_loss: 0.0233 - val_wine_quality_mse: 0.3167 - val_wine_type_accuracy: 0.9962\n",
      "Epoch 149/180\n",
      "3155/3155 [==============================] - 0s 59us/sample - loss: 0.2849 - wine_quality_loss: 0.2673 - wine_type_loss: 0.0180 - wine_quality_mse: 0.2677 - wine_type_accuracy: 0.9965 - val_loss: 0.3328 - val_wine_quality_loss: 0.3091 - val_wine_type_loss: 0.0232 - val_wine_quality_mse: 0.3093 - val_wine_type_accuracy: 0.9962\n",
      "Epoch 150/180\n",
      "3155/3155 [==============================] - 0s 59us/sample - loss: 0.2830 - wine_quality_loss: 0.2661 - wine_type_loss: 0.0170 - wine_quality_mse: 0.2660 - wine_type_accuracy: 0.9965 - val_loss: 0.3322 - val_wine_quality_loss: 0.3084 - val_wine_type_loss: 0.0235 - val_wine_quality_mse: 0.3087 - val_wine_type_accuracy: 0.9962\n",
      "Epoch 151/180\n",
      "3155/3155 [==============================] - 0s 55us/sample - loss: 0.2833 - wine_quality_loss: 0.2665 - wine_type_loss: 0.0169 - wine_quality_mse: 0.2663 - wine_type_accuracy: 0.9965 - val_loss: 0.3336 - val_wine_quality_loss: 0.3104 - val_wine_type_loss: 0.0286 - val_wine_quality_mse: 0.3102 - val_wine_type_accuracy: 0.9962\n",
      "Epoch 152/180\n",
      "3155/3155 [==============================] - 0s 60us/sample - loss: 0.2824 - wine_quality_loss: 0.2655 - wine_type_loss: 0.0169 - wine_quality_mse: 0.2655 - wine_type_accuracy: 0.9965 - val_loss: 0.3333 - val_wine_quality_loss: 0.3125 - val_wine_type_loss: 0.0232 - val_wine_quality_mse: 0.3099 - val_wine_type_accuracy: 0.9962\n",
      "Epoch 153/180\n",
      "3155/3155 [==============================] - 0s 49us/sample - loss: 0.2827 - wine_quality_loss: 0.2658 - wine_type_loss: 0.0180 - wine_quality_mse: 0.2658 - wine_type_accuracy: 0.9965 - val_loss: 0.3261 - val_wine_quality_loss: 0.3014 - val_wine_type_loss: 0.0231 - val_wine_quality_mse: 0.3027 - val_wine_type_accuracy: 0.9962\n",
      "Epoch 154/180\n",
      "3155/3155 [==============================] - 0s 57us/sample - loss: 0.2826 - wine_quality_loss: 0.2659 - wine_type_loss: 0.0167 - wine_quality_mse: 0.2658 - wine_type_accuracy: 0.9965 - val_loss: 0.3281 - val_wine_quality_loss: 0.3054 - val_wine_type_loss: 0.0233 - val_wine_quality_mse: 0.3045 - val_wine_type_accuracy: 0.9962\n",
      "Epoch 155/180\n",
      "3155/3155 [==============================] - 0s 50us/sample - loss: 0.2825 - wine_quality_loss: 0.2656 - wine_type_loss: 0.0168 - wine_quality_mse: 0.2656 - wine_type_accuracy: 0.9965 - val_loss: 0.3362 - val_wine_quality_loss: 0.3125 - val_wine_type_loss: 0.0234 - val_wine_quality_mse: 0.3127 - val_wine_type_accuracy: 0.9962\n",
      "Epoch 156/180\n",
      "3155/3155 [==============================] - 0s 48us/sample - loss: 0.2810 - wine_quality_loss: 0.2651 - wine_type_loss: 0.0167 - wine_quality_mse: 0.2642 - wine_type_accuracy: 0.9965 - val_loss: 0.3330 - val_wine_quality_loss: 0.3116 - val_wine_type_loss: 0.0233 - val_wine_quality_mse: 0.3095 - val_wine_type_accuracy: 0.9962\n",
      "Epoch 157/180\n",
      "3155/3155 [==============================] - 0s 53us/sample - loss: 0.2804 - wine_quality_loss: 0.2639 - wine_type_loss: 0.0166 - wine_quality_mse: 0.2637 - wine_type_accuracy: 0.9965 - val_loss: 0.3250 - val_wine_quality_loss: 0.3029 - val_wine_type_loss: 0.0232 - val_wine_quality_mse: 0.3015 - val_wine_type_accuracy: 0.9962\n",
      "Epoch 158/180\n",
      "3155/3155 [==============================] - 0s 54us/sample - loss: 0.2798 - wine_quality_loss: 0.2636 - wine_type_loss: 0.0166 - wine_quality_mse: 0.2632 - wine_type_accuracy: 0.9965 - val_loss: 0.3442 - val_wine_quality_loss: 0.3188 - val_wine_type_loss: 0.0232 - val_wine_quality_mse: 0.3207 - val_wine_type_accuracy: 0.9962\n",
      "Epoch 159/180\n",
      "3155/3155 [==============================] - 0s 50us/sample - loss: 0.2803 - wine_quality_loss: 0.2637 - wine_type_loss: 0.0165 - wine_quality_mse: 0.2637 - wine_type_accuracy: 0.9965 - val_loss: 0.3297 - val_wine_quality_loss: 0.3056 - val_wine_type_loss: 0.0231 - val_wine_quality_mse: 0.3063 - val_wine_type_accuracy: 0.9962\n",
      "Epoch 160/180\n",
      "3155/3155 [==============================] - 0s 49us/sample - loss: 0.2793 - wine_quality_loss: 0.2626 - wine_type_loss: 0.0164 - wine_quality_mse: 0.2628 - wine_type_accuracy: 0.9965 - val_loss: 0.3409 - val_wine_quality_loss: 0.3172 - val_wine_type_loss: 0.0233 - val_wine_quality_mse: 0.3174 - val_wine_type_accuracy: 0.9962\n",
      "Epoch 161/180\n",
      "3155/3155 [==============================] - 0s 65us/sample - loss: 0.2785 - wine_quality_loss: 0.2623 - wine_type_loss: 0.0164 - wine_quality_mse: 0.2621 - wine_type_accuracy: 0.9965 - val_loss: 0.3258 - val_wine_quality_loss: 0.3024 - val_wine_type_loss: 0.0235 - val_wine_quality_mse: 0.3024 - val_wine_type_accuracy: 0.9962\n",
      "Epoch 162/180\n",
      "3155/3155 [==============================] - 0s 61us/sample - loss: 0.2787 - wine_quality_loss: 0.2624 - wine_type_loss: 0.0163 - wine_quality_mse: 0.2623 - wine_type_accuracy: 0.9965 - val_loss: 0.3322 - val_wine_quality_loss: 0.3087 - val_wine_type_loss: 0.0232 - val_wine_quality_mse: 0.3088 - val_wine_type_accuracy: 0.9962\n",
      "Epoch 163/180\n",
      "3155/3155 [==============================] - 0s 58us/sample - loss: 0.2779 - wine_quality_loss: 0.2619 - wine_type_loss: 0.0162 - wine_quality_mse: 0.2616 - wine_type_accuracy: 0.9965 - val_loss: 0.3296 - val_wine_quality_loss: 0.3045 - val_wine_type_loss: 0.0232 - val_wine_quality_mse: 0.3061 - val_wine_type_accuracy: 0.9962\n",
      "Epoch 164/180\n",
      "3155/3155 [==============================] - 0s 48us/sample - loss: 0.2781 - wine_quality_loss: 0.2611 - wine_type_loss: 0.0162 - wine_quality_mse: 0.2618 - wine_type_accuracy: 0.9965 - val_loss: 0.3290 - val_wine_quality_loss: 0.3066 - val_wine_type_loss: 0.0232 - val_wine_quality_mse: 0.3056 - val_wine_type_accuracy: 0.9962\n",
      "Epoch 165/180\n",
      "3155/3155 [==============================] - 0s 51us/sample - loss: 0.2771 - wine_quality_loss: 0.2607 - wine_type_loss: 0.0162 - wine_quality_mse: 0.2608 - wine_type_accuracy: 0.9965 - val_loss: 0.3315 - val_wine_quality_loss: 0.3062 - val_wine_type_loss: 0.0232 - val_wine_quality_mse: 0.3080 - val_wine_type_accuracy: 0.9962\n",
      "Epoch 166/180\n",
      "3155/3155 [==============================] - 0s 47us/sample - loss: 0.2768 - wine_quality_loss: 0.2606 - wine_type_loss: 0.0162 - wine_quality_mse: 0.2606 - wine_type_accuracy: 0.9965 - val_loss: 0.3394 - val_wine_quality_loss: 0.3168 - val_wine_type_loss: 0.0232 - val_wine_quality_mse: 0.3159 - val_wine_type_accuracy: 0.9962\n",
      "Epoch 167/180\n",
      "3155/3155 [==============================] - 0s 50us/sample - loss: 0.2781 - wine_quality_loss: 0.2619 - wine_type_loss: 0.0160 - wine_quality_mse: 0.2620 - wine_type_accuracy: 0.9965 - val_loss: 0.3342 - val_wine_quality_loss: 0.3112 - val_wine_type_loss: 0.0289 - val_wine_quality_mse: 0.3107 - val_wine_type_accuracy: 0.9962\n"
     ]
    },
    {
     "name": "stdout",
     "output_type": "stream",
     "text": [
      "Epoch 168/180\n",
      "3155/3155 [==============================] - 0s 49us/sample - loss: 0.2769 - wine_quality_loss: 0.2610 - wine_type_loss: 0.0160 - wine_quality_mse: 0.2608 - wine_type_accuracy: 0.9965 - val_loss: 0.3371 - val_wine_quality_loss: 0.3159 - val_wine_type_loss: 0.0232 - val_wine_quality_mse: 0.3136 - val_wine_type_accuracy: 0.9962\n",
      "Epoch 169/180\n",
      "3155/3155 [==============================] - 0s 46us/sample - loss: 0.2759 - wine_quality_loss: 0.2598 - wine_type_loss: 0.0159 - wine_quality_mse: 0.2599 - wine_type_accuracy: 0.9965 - val_loss: 0.3360 - val_wine_quality_loss: 0.3120 - val_wine_type_loss: 0.0232 - val_wine_quality_mse: 0.3125 - val_wine_type_accuracy: 0.9962\n",
      "Epoch 170/180\n",
      "3155/3155 [==============================] - 0s 50us/sample - loss: 0.2759 - wine_quality_loss: 0.2601 - wine_type_loss: 0.0173 - wine_quality_mse: 0.2599 - wine_type_accuracy: 0.9965 - val_loss: 0.3274 - val_wine_quality_loss: 0.3051 - val_wine_type_loss: 0.0231 - val_wine_quality_mse: 0.3040 - val_wine_type_accuracy: 0.9962\n",
      "Epoch 171/180\n",
      "3155/3155 [==============================] - 0s 48us/sample - loss: 0.2757 - wine_quality_loss: 0.2599 - wine_type_loss: 0.0158 - wine_quality_mse: 0.2598 - wine_type_accuracy: 0.9965 - val_loss: 0.3330 - val_wine_quality_loss: 0.3115 - val_wine_type_loss: 0.0263 - val_wine_quality_mse: 0.3096 - val_wine_type_accuracy: 0.9962\n",
      "Epoch 172/180\n",
      "3155/3155 [==============================] - 0s 57us/sample - loss: 0.2750 - wine_quality_loss: 0.2590 - wine_type_loss: 0.0158 - wine_quality_mse: 0.2592 - wine_type_accuracy: 0.9965 - val_loss: 0.3337 - val_wine_quality_loss: 0.3087 - val_wine_type_loss: 0.0231 - val_wine_quality_mse: 0.3103 - val_wine_type_accuracy: 0.9962\n",
      "Epoch 173/180\n",
      "3155/3155 [==============================] - 0s 53us/sample - loss: 0.2752 - wine_quality_loss: 0.2595 - wine_type_loss: 0.0158 - wine_quality_mse: 0.2594 - wine_type_accuracy: 0.9965 - val_loss: 0.3285 - val_wine_quality_loss: 0.3036 - val_wine_type_loss: 0.0232 - val_wine_quality_mse: 0.3050 - val_wine_type_accuracy: 0.9962\n",
      "Epoch 174/180\n",
      "3155/3155 [==============================] - 0s 51us/sample - loss: 0.2739 - wine_quality_loss: 0.2586 - wine_type_loss: 0.0157 - wine_quality_mse: 0.2582 - wine_type_accuracy: 0.9965 - val_loss: 0.3337 - val_wine_quality_loss: 0.3120 - val_wine_type_loss: 0.0231 - val_wine_quality_mse: 0.3103 - val_wine_type_accuracy: 0.9962\n",
      "Epoch 175/180\n",
      "3155/3155 [==============================] - 0s 62us/sample - loss: 0.2738 - wine_quality_loss: 0.2580 - wine_type_loss: 0.0156 - wine_quality_mse: 0.2582 - wine_type_accuracy: 0.9965 - val_loss: 0.3294 - val_wine_quality_loss: 0.3079 - val_wine_type_loss: 0.0232 - val_wine_quality_mse: 0.3060 - val_wine_type_accuracy: 0.9962\n",
      "Epoch 176/180\n",
      "3155/3155 [==============================] - 0s 55us/sample - loss: 0.2736 - wine_quality_loss: 0.2578 - wine_type_loss: 0.0156 - wine_quality_mse: 0.2579 - wine_type_accuracy: 0.9965 - val_loss: 0.3340 - val_wine_quality_loss: 0.3104 - val_wine_type_loss: 0.0231 - val_wine_quality_mse: 0.3106 - val_wine_type_accuracy: 0.9962\n",
      "Epoch 177/180\n",
      "3155/3155 [==============================] - 0s 61us/sample - loss: 0.2742 - wine_quality_loss: 0.2589 - wine_type_loss: 0.0155 - wine_quality_mse: 0.2586 - wine_type_accuracy: 0.9965 - val_loss: 0.3353 - val_wine_quality_loss: 0.3128 - val_wine_type_loss: 0.0233 - val_wine_quality_mse: 0.3117 - val_wine_type_accuracy: 0.9962\n",
      "Epoch 178/180\n",
      "3155/3155 [==============================] - 0s 62us/sample - loss: 0.2723 - wine_quality_loss: 0.2565 - wine_type_loss: 0.0155 - wine_quality_mse: 0.2568 - wine_type_accuracy: 0.9965 - val_loss: 0.3282 - val_wine_quality_loss: 0.3050 - val_wine_type_loss: 0.0231 - val_wine_quality_mse: 0.3048 - val_wine_type_accuracy: 0.9962\n",
      "Epoch 179/180\n",
      "3155/3155 [==============================] - 0s 50us/sample - loss: 0.2733 - wine_quality_loss: 0.2578 - wine_type_loss: 0.0154 - wine_quality_mse: 0.2578 - wine_type_accuracy: 0.9965 - val_loss: 0.3314 - val_wine_quality_loss: 0.3102 - val_wine_type_loss: 0.0232 - val_wine_quality_mse: 0.3079 - val_wine_type_accuracy: 0.9962\n",
      "Epoch 180/180\n",
      "3155/3155 [==============================] - 0s 55us/sample - loss: 0.2716 - wine_quality_loss: 0.2562 - wine_type_loss: 0.0154 - wine_quality_mse: 0.2562 - wine_type_accuracy: 0.9965 - val_loss: 0.3339 - val_wine_quality_loss: 0.3109 - val_wine_type_loss: 0.0232 - val_wine_quality_mse: 0.3103 - val_wine_type_accuracy: 0.9962\n"
     ]
    }
   ],
   "source": [
    "# Please uncomment all lines in this cell and replace those marked with `# YOUR CODE HERE`.\n",
    "# You can select all lines in this code cell with Ctrl+A (Windows/Linux) or Cmd+A (Mac), then press Ctrl+/ (Windows/Linux) or Cmd+/ (Mac) to uncomment.\n",
    "\n",
    "\n",
    "\n",
    "history = model.fit(norm_train_X, train_Y,\n",
    "                    epochs = 180, validation_data=(norm_val_X, val_Y))"
   ]
  },
  {
   "cell_type": "code",
   "execution_count": 43,
   "metadata": {
    "deletable": false,
    "editable": false,
    "nbgrader": {
     "cell_type": "code",
     "checksum": "fadad8896eda9c8c2115970724b15508",
     "grade": true,
     "grade_id": "cell-eb4d5b41bef8f0ab",
     "locked": true,
     "points": 1,
     "schema_version": 3,
     "solution": false,
     "task": false
    }
   },
   "outputs": [
    {
     "name": "stdout",
     "output_type": "stream",
     "text": [
      "\u001b[92m All public tests passed\n"
     ]
    }
   ],
   "source": [
    "utils.test_history(history)"
   ]
  },
  {
   "cell_type": "code",
   "execution_count": 44,
   "metadata": {
    "colab": {},
    "colab_type": "code",
    "id": "CubF2J2gSf6q"
   },
   "outputs": [
    {
     "name": "stdout",
     "output_type": "stream",
     "text": [
      "WARNING:tensorflow:Falling back from v2 loop because of error: Failed to find data adapter that can handle input: <class 'pandas.core.frame.DataFrame'>, <class 'NoneType'>\n",
      "789/789 [==============================] - 0s 26us/sample - loss: 0.3339 - wine_quality_loss: 0.3101 - wine_type_loss: 0.0232 - wine_quality_mse: 0.3103 - wine_type_accuracy: 0.9962\n",
      "\n",
      "loss: 0.3338533734716239\n",
      "wine_quality_loss: 0.31009429693222046\n",
      "wine_type_loss: 0.023221159353852272\n",
      "wine_quality_rmse: 0.3103276193141937\n",
      "wine_type_accuracy: 0.9961977005004883\n"
     ]
    }
   ],
   "source": [
    "# Gather the training metrics\n",
    "loss, wine_quality_loss, wine_type_loss, wine_quality_rmse, wine_type_accuracy = model.evaluate(x=norm_val_X, y=val_Y)\n",
    "\n",
    "print()\n",
    "print(f'loss: {loss}')\n",
    "print(f'wine_quality_loss: {wine_quality_loss}')\n",
    "print(f'wine_type_loss: {wine_type_loss}')\n",
    "print(f'wine_quality_rmse: {wine_quality_rmse}')\n",
    "print(f'wine_type_accuracy: {wine_type_accuracy}')\n",
    "\n",
    "# EXPECTED VALUES\n",
    "# ~ 0.30 - 0.38\n",
    "# ~ 0.30 - 0.38\n",
    "# ~ 0.018 - 0.030\n",
    "# ~ 0.50 - 0.62\n",
    "# ~ 0.97 - 1.0\n",
    "\n",
    "# Example:\n",
    "#0.3657050132751465\n",
    "#0.3463745415210724\n",
    "#0.019330406561493874\n",
    "#0.5885359048843384\n",
    "#0.9974651336669922"
   ]
  },
  {
   "cell_type": "markdown",
   "metadata": {
    "colab_type": "text",
    "id": "gPtTGAP4usnm"
   },
   "source": [
    "## Analyze the Model Performance\n",
    "\n",
    "Note that the model has two outputs. The output at index 0 is quality and index 1 is wine type\n",
    "\n",
    "So, round the quality predictions to the nearest integer."
   ]
  },
  {
   "cell_type": "code",
   "execution_count": 45,
   "metadata": {
    "colab": {},
    "colab_type": "code",
    "id": "tBq9PEeAaW-Y"
   },
   "outputs": [
    {
     "name": "stdout",
     "output_type": "stream",
     "text": [
      "WARNING:tensorflow:Falling back from v2 loop because of error: Failed to find data adapter that can handle input: <class 'pandas.core.frame.DataFrame'>, <class 'NoneType'>\n"
     ]
    }
   ],
   "source": [
    "predictions = model.predict(norm_test_X)\n",
    "quality_pred = predictions[0]\n",
    "type_pred = predictions[1]"
   ]
  },
  {
   "cell_type": "code",
   "execution_count": 46,
   "metadata": {
    "colab": {},
    "colab_type": "code",
    "id": "YLhgTR4xTIxj"
   },
   "outputs": [
    {
     "name": "stdout",
     "output_type": "stream",
     "text": [
      "[5.5273833]\n"
     ]
    }
   ],
   "source": [
    "print(quality_pred[0])\n",
    "\n",
    "# EXPECTED OUTPUT\n",
    "# 5.6 - 6.0"
   ]
  },
  {
   "cell_type": "code",
   "execution_count": 47,
   "metadata": {
    "colab": {},
    "colab_type": "code",
    "id": "MPi-eYfGTUXi"
   },
   "outputs": [
    {
     "name": "stdout",
     "output_type": "stream",
     "text": [
      "[0.00030208]\n",
      "[0.9999979]\n"
     ]
    }
   ],
   "source": [
    "print(type_pred[0])\n",
    "print(type_pred[944])\n",
    "\n",
    "# EXPECTED OUTPUT\n",
    "# A number close to zero\n",
    "# A number close to or equal to 1"
   ]
  },
  {
   "cell_type": "markdown",
   "metadata": {
    "colab_type": "text",
    "id": "Kohk-9C6vt_s"
   },
   "source": [
    "### Plot Utilities\n",
    "\n",
    "We define a few utilities to visualize the model performance."
   ]
  },
  {
   "cell_type": "code",
   "execution_count": 48,
   "metadata": {
    "colab": {},
    "colab_type": "code",
    "id": "62gEOFUhn6aQ"
   },
   "outputs": [],
   "source": [
    "def plot_metrics(metric_name, title, ylim=5):\n",
    "    plt.title(title)\n",
    "    plt.ylim(0,ylim)\n",
    "    plt.plot(history.history[metric_name],color='blue',label=metric_name)\n",
    "    plt.plot(history.history['val_' + metric_name],color='green',label='val_' + metric_name)\n"
   ]
  },
  {
   "cell_type": "code",
   "execution_count": 49,
   "metadata": {
    "colab": {},
    "colab_type": "code",
    "id": "6rfgSx7uz5dj"
   },
   "outputs": [],
   "source": [
    "def plot_confusion_matrix(y_true, y_pred, title='', labels=[0,1]):\n",
    "    cm = confusion_matrix(y_true, y_pred)\n",
    "    fig = plt.figure()\n",
    "    ax = fig.add_subplot(111)\n",
    "    cax = ax.matshow(cm)\n",
    "    plt.title('Confusion matrix of the classifier')\n",
    "    fig.colorbar(cax)\n",
    "    ax.set_xticklabels([''] + labels)\n",
    "    ax.set_yticklabels([''] + labels)\n",
    "    plt.xlabel('Predicted')\n",
    "    plt.ylabel('True')\n",
    "    fmt = 'd'\n",
    "    thresh = cm.max() / 2.\n",
    "    for i, j in itertools.product(range(cm.shape[0]), range(cm.shape[1])):\n",
    "          plt.text(j, i, format(cm[i, j], fmt),\n",
    "                  horizontalalignment=\"center\",\n",
    "                  color=\"black\" if cm[i, j] > thresh else \"white\")\n",
    "    plt.show()"
   ]
  },
  {
   "cell_type": "code",
   "execution_count": 50,
   "metadata": {
    "colab": {},
    "colab_type": "code",
    "id": "dfVLIqi017Vf"
   },
   "outputs": [],
   "source": [
    "def plot_diff(y_true, y_pred, title = '' ):\n",
    "    plt.scatter(y_true, y_pred)\n",
    "    plt.title(title)\n",
    "    plt.xlabel('True Values')\n",
    "    plt.ylabel('Predictions')\n",
    "    plt.axis('equal')\n",
    "    plt.axis('square')\n",
    "    plt.plot([-100, 100], [-100, 100])\n",
    "    return plt"
   ]
  },
  {
   "cell_type": "markdown",
   "metadata": {
    "colab_type": "text",
    "id": "8sd1jdFbwE0I"
   },
   "source": [
    "### Plots for Metrics"
   ]
  },
  {
   "cell_type": "code",
   "execution_count": 51,
   "metadata": {
    "colab": {},
    "colab_type": "code",
    "id": "f3MwZ5J1pOfj"
   },
   "outputs": [
    {
     "ename": "KeyError",
     "evalue": "'wine_quality_root_mean_squared_error'",
     "output_type": "error",
     "traceback": [
      "\u001b[1;31m---------------------------------------------------------------------------\u001b[0m",
      "\u001b[1;31mKeyError\u001b[0m                                  Traceback (most recent call last)",
      "\u001b[1;32m<ipython-input-51-87fe6d894717>\u001b[0m in \u001b[0;36m<module>\u001b[1;34m\u001b[0m\n\u001b[1;32m----> 1\u001b[1;33m \u001b[0mplot_metrics\u001b[0m\u001b[1;33m(\u001b[0m\u001b[1;34m'wine_quality_root_mean_squared_error'\u001b[0m\u001b[1;33m,\u001b[0m \u001b[1;34m'RMSE'\u001b[0m\u001b[1;33m,\u001b[0m \u001b[0mylim\u001b[0m\u001b[1;33m=\u001b[0m\u001b[1;36m2\u001b[0m\u001b[1;33m)\u001b[0m\u001b[1;33m\u001b[0m\u001b[0m\n\u001b[0m",
      "\u001b[1;32m<ipython-input-48-5e436ecb5411>\u001b[0m in \u001b[0;36mplot_metrics\u001b[1;34m(metric_name, title, ylim)\u001b[0m\n\u001b[0;32m      2\u001b[0m     \u001b[0mplt\u001b[0m\u001b[1;33m.\u001b[0m\u001b[0mtitle\u001b[0m\u001b[1;33m(\u001b[0m\u001b[0mtitle\u001b[0m\u001b[1;33m)\u001b[0m\u001b[1;33m\u001b[0m\u001b[0m\n\u001b[0;32m      3\u001b[0m     \u001b[0mplt\u001b[0m\u001b[1;33m.\u001b[0m\u001b[0mylim\u001b[0m\u001b[1;33m(\u001b[0m\u001b[1;36m0\u001b[0m\u001b[1;33m,\u001b[0m\u001b[0mylim\u001b[0m\u001b[1;33m)\u001b[0m\u001b[1;33m\u001b[0m\u001b[0m\n\u001b[1;32m----> 4\u001b[1;33m     \u001b[0mplt\u001b[0m\u001b[1;33m.\u001b[0m\u001b[0mplot\u001b[0m\u001b[1;33m(\u001b[0m\u001b[0mhistory\u001b[0m\u001b[1;33m.\u001b[0m\u001b[0mhistory\u001b[0m\u001b[1;33m[\u001b[0m\u001b[0mmetric_name\u001b[0m\u001b[1;33m]\u001b[0m\u001b[1;33m,\u001b[0m\u001b[0mcolor\u001b[0m\u001b[1;33m=\u001b[0m\u001b[1;34m'blue'\u001b[0m\u001b[1;33m,\u001b[0m\u001b[0mlabel\u001b[0m\u001b[1;33m=\u001b[0m\u001b[0mmetric_name\u001b[0m\u001b[1;33m)\u001b[0m\u001b[1;33m\u001b[0m\u001b[0m\n\u001b[0m\u001b[0;32m      5\u001b[0m     \u001b[0mplt\u001b[0m\u001b[1;33m.\u001b[0m\u001b[0mplot\u001b[0m\u001b[1;33m(\u001b[0m\u001b[0mhistory\u001b[0m\u001b[1;33m.\u001b[0m\u001b[0mhistory\u001b[0m\u001b[1;33m[\u001b[0m\u001b[1;34m'val_'\u001b[0m \u001b[1;33m+\u001b[0m \u001b[0mmetric_name\u001b[0m\u001b[1;33m]\u001b[0m\u001b[1;33m,\u001b[0m\u001b[0mcolor\u001b[0m\u001b[1;33m=\u001b[0m\u001b[1;34m'green'\u001b[0m\u001b[1;33m,\u001b[0m\u001b[0mlabel\u001b[0m\u001b[1;33m=\u001b[0m\u001b[1;34m'val_'\u001b[0m \u001b[1;33m+\u001b[0m \u001b[0mmetric_name\u001b[0m\u001b[1;33m)\u001b[0m\u001b[1;33m\u001b[0m\u001b[0m\n",
      "\u001b[1;31mKeyError\u001b[0m: 'wine_quality_root_mean_squared_error'"
     ]
    },
    {
     "data": {
      "image/png": "[encoded data removed]",
      "text/plain": [
       "<Figure size 432x288 with 1 Axes>"
      ]
     },
     "metadata": {
      "needs_background": "light"
     },
     "output_type": "display_data"
    }
   ],
   "source": [
    "plot_metrics('wine_quality_root_mean_squared_error', 'RMSE', ylim=2)"
   ]
  },
  {
   "cell_type": "code",
   "execution_count": 52,
   "metadata": {
    "colab": {},
    "colab_type": "code",
    "id": "QIAxEezCppnd"
   },
   "outputs": [
    {
     "data": {
      "image/png": "[encoded data removed]",
      "text/plain": [
       "<Figure size 432x288 with 1 Axes>"
      ]
     },
     "metadata": {
      "needs_background": "light"
     },
     "output_type": "display_data"
    }
   ],
   "source": [
    "plot_metrics('wine_type_loss', 'Wine Type Loss', ylim=0.2)"
   ]
  },
  {
   "cell_type": "markdown",
   "metadata": {
    "colab_type": "text",
    "id": "uYV9AOAMwI9p"
   },
   "source": [
    "### Plots for Confusion Matrix\n",
    "\n",
    "Plot the confusion matrices for wine type. You can see that the model performs well for prediction of wine type from the confusion matrix and the loss metrics."
   ]
  },
  {
   "cell_type": "code",
   "execution_count": 53,
   "metadata": {
    "colab": {},
    "colab_type": "code",
    "id": "C3hvTYxIaf3n"
   },
   "outputs": [
    {
     "name": "stderr",
     "output_type": "stream",
     "text": [
      "d:\\amit\\myworkspace\\dl_adv_techniques_splzn\\pvenv\\lib\\site-packages\\ipykernel_launcher.py:8: UserWarning: FixedFormatter should only be used together with FixedLocator\n",
      "  \n",
      "d:\\amit\\myworkspace\\dl_adv_techniques_splzn\\pvenv\\lib\\site-packages\\ipykernel_launcher.py:9: UserWarning: FixedFormatter should only be used together with FixedLocator\n",
      "  if __name__ == '__main__':\n"
     ]
    },
    {
     "data": {
      "image/png": "[encoded data removed]",
      "text/plain": [
       "<Figure size 432x288 with 2 Axes>"
      ]
     },
     "metadata": {
      "needs_background": "light"
     },
     "output_type": "display_data"
    }
   ],
   "source": [
    "plot_confusion_matrix(test_Y[1], np.round(type_pred), title='Wine Type', labels = [0, 1])"
   ]
  },
  {
   "cell_type": "code",
   "execution_count": 54,
   "metadata": {
    "colab": {},
    "colab_type": "code",
    "id": "GW91ym8P2I5y"
   },
   "outputs": [
    {
     "data": {
      "image/png": "[encoded data removed]",
      "text/plain": [
       "<Figure size 432x288 with 1 Axes>"
      ]
     },
     "metadata": {
      "needs_background": "light"
     },
     "output_type": "display_data"
    }
   ],
   "source": [
    "scatter_plot = plot_diff(test_Y[0], quality_pred, title='Type')"
   ]
  },
  {
   "cell_type": "code",
   "execution_count": null,
   "metadata": {},
   "outputs": [],
   "source": []
  }
 ],
 "metadata": {
  "colab": {
   "include_colab_link": true,
   "name": "exercise-answer.ipynb",
   "provenance": []
  },
  "kernelspec": {
   "display_name": "Python 3",
   "language": "python",
   "name": "python3"
  },
  "language_info": {
   "codemirror_mode": {
    "name": "ipython",
    "version": 3
   },
   "file_extension": ".py",
   "mimetype": "text/x-python",
   "name": "python",
   "nbconvert_exporter": "python",
   "pygments_lexer": "ipython3",
   "version": "3.7.0"
  }
 },
 "nbformat": 4,
 "nbformat_minor": 4
}
