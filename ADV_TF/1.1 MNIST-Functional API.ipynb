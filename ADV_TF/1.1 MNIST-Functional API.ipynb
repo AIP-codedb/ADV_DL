{
 "cells": [
  {
   "cell_type": "code",
   "execution_count": 71,
   "metadata": {},
   "outputs": [],
   "source": [
    "%reset -f\n",
    "import tensorflow as tf\n",
    "\n",
    "data = tf.keras.datasets.fashion_mnist\n",
    "\n",
    "(training_images, training_labels), (test_images, test_labels) = data.load_data()\n",
    "\n",
    "training_images  = training_images / 255.0\n",
    "test_images = test_images / 255.0"
   ]
  },
  {
   "cell_type": "markdown",
   "metadata": {
    "heading_collapsed": true
   },
   "source": [
    "# MNIST Sequential API"
   ]
  },
  {
   "cell_type": "code",
   "execution_count": null,
   "metadata": {
    "hidden": true
   },
   "outputs": [],
   "source": [
    "model = tf.keras.models.Sequential([tf.keras.layers.Flatten(input_shape=(28,28)),\n",
    "                                    tf.keras.layers.Dense(128,activation='relu'),\n",
    "                                    tf.keras.layers.Dense(10, activation=tf.nn.softmax)])\n",
    "\n",
    "model.compile(optimizer='adam',\n",
    "              loss='sparse_categorical_crossentropy',\n",
    "              metrics=['accuracy'])"
   ]
  },
  {
   "cell_type": "markdown",
   "metadata": {
    "hidden": true
   },
   "source": [
    "## Plot model"
   ]
  },
  {
   "cell_type": "code",
   "execution_count": null,
   "metadata": {
    "hidden": true
   },
   "outputs": [],
   "source": [
    "# !pip install pydot\n",
    "# !pip install pydotplus\n",
    "# Instal graphviz2.38 windows version\n",
    "# Install it for everyone not just for current user\n",
    "# make path changes in the pydotplus file if path change in environment variables does not work\n",
    "from tensorflow.python.keras.utils.vis_utils import plot_model\n",
    "plot_model(model, show_shapes=True, show_layer_names=True, to_file='model.png')"
   ]
  },
  {
   "cell_type": "code",
   "execution_count": null,
   "metadata": {
    "hidden": true,
    "scrolled": true
   },
   "outputs": [],
   "source": [
    "model.fit(training_images, training_labels, epochs=1)"
   ]
  },
  {
   "cell_type": "markdown",
   "metadata": {
    "heading_collapsed": true
   },
   "source": [
    "# MNIST Functional API"
   ]
  },
  {
   "cell_type": "code",
   "execution_count": null,
   "metadata": {
    "hidden": true
   },
   "outputs": [],
   "source": [
    "input = tf.keras.layers.Input(shape=(28,28))\n",
    "x = tf.keras.layers.Flatten()(input)\n",
    "x = tf.keras.layers.Dense(128,activation='relu')(x)\n",
    "pred = tf.keras.layers.Dense(10,activation='softmax')(x)\n",
    "\n",
    "model = tf.keras.Model(inputs=input,outputs=pred)\n",
    "\n",
    "model.compile(optimizer='adam',\n",
    "              loss='sparse_categorical_crossentropy',\n",
    "              metrics=['accuracy'])"
   ]
  },
  {
   "cell_type": "code",
   "execution_count": null,
   "metadata": {
    "hidden": true
   },
   "outputs": [],
   "source": [
    "# !pip install pydot\n",
    "# !pip install pydotplus\n",
    "# Instal graphviz2.38 windows version\n",
    "# Install it for everyone not just for current user\n",
    "# make path changes in the pydotplus file if path change in environment variables does not work\n",
    "from tensorflow.python.keras.utils.vis_utils import plot_model\n",
    "plot_model(model, show_shapes=True, show_layer_names=True, to_file='model.png')"
   ]
  },
  {
   "cell_type": "code",
   "execution_count": null,
   "metadata": {
    "hidden": true
   },
   "outputs": [],
   "source": [
    "model.fit(training_images, training_labels, epochs=1)"
   ]
  },
  {
   "cell_type": "markdown",
   "metadata": {},
   "source": [
    "# Custom Activation, Layer, Model, Loss class"
   ]
  },
  {
   "cell_type": "code",
   "execution_count": 139,
   "metadata": {},
   "outputs": [
    {
     "name": "stdout",
     "output_type": "stream",
     "text": [
      "Train on 60000 samples\n",
      "60000/60000 [==============================] - 22s 360us/sample - loss: 0.5059 - accuracy: 0.8219\n"
     ]
    }
   ],
   "source": [
    "%reset -f\n",
    "import tensorflow as tf\n",
    "from tensorflow.keras import backend as K\n",
    "\n",
    "data = tf.keras.datasets.fashion_mnist\n",
    "\n",
    "(training_images, training_labels), (test_images, test_labels) = data.load_data()\n",
    "\n",
    "training_images  = training_images / 255.0\n",
    "test_images = test_images / 255.0\n",
    "\n",
    "# Custom Activation\n",
    "\n",
    "def my_relu(x):\n",
    "    return K.maximum(-0.1, x)\n",
    "\n",
    "# Custom Layer\n",
    "\n",
    "class MyDense(tf.keras.layers.Layer):\n",
    "\n",
    "    def __init__(self, units=32,activation=None):\n",
    "        '''Initializes the instance attributes'''\n",
    "        super(MyDense, self).__init__()\n",
    "        self.units = units\n",
    "        \n",
    "        self.activation = tf.keras.activations.get(activation)\n",
    "        \n",
    "\n",
    "    def build(self, input_shape):\n",
    "        '''Create the state of the layer (weights)'''\n",
    "        # initialize the weights\n",
    "        w_init = tf.random_normal_initializer()\n",
    "        self.w = tf.Variable(name=\"kernel\",\n",
    "                initial_value=w_init(shape=(input_shape[-1], self.units),\n",
    "                                     dtype='float32'),\n",
    "                trainable=True)\n",
    "\n",
    "        # initialize the biases\n",
    "        b_init = tf.zeros_initializer()\n",
    "        self.b = tf.Variable(name=\"bias\",\n",
    "                initial_value=b_init(shape=(self.units,), dtype='float32'),\n",
    "                trainable=True)\n",
    "\n",
    "    def call(self, inputs):\n",
    "        '''Defines the computation from inputs to outputs'''\n",
    "        return self.activation(tf.matmul(inputs, self.w) + self.b)\n",
    "\n",
    "    \n",
    "# Custom Model Test\n",
    "\n",
    "class MNISTNetworkTest(tf.keras.Model):\n",
    "    def __init__(self,**kwargs):\n",
    "        super(MNISTNetworkTest,self).__init__(**kwargs)\n",
    "        self.flatten = tf.keras.layers.Flatten()\n",
    "        self.Dense1 = MyDense(128)\n",
    "        self.classification = MyDense(10,activation='softmax')\n",
    "    def call(self,inputs):\n",
    "        input_a = inputs\n",
    "        x = self.flatten(input_a)\n",
    "        x = self.Dense1(x)\n",
    "        # Custom activation layer\n",
    "        x = tf.keras.layers.Lambda(my_relu)(x)\n",
    "        outputs = self.classification(x)\n",
    "        \n",
    "        return outputs\n",
    "\n",
    "# Custom model\n",
    "\n",
    "class MNISTNetwork(tf.keras.Model):\n",
    "    def __init__(self,**kwargs):\n",
    "        super(MNISTNetwork,self).__init__(**kwargs)\n",
    "        self.flatten = tf.keras.layers.Flatten()\n",
    "        self.Dense1 = tf.keras.layers.Dense(128,activation='relu')\n",
    "        self.classification = tf.keras.layers.Dense(10,activation='softmax')\n",
    "    def call(self,inputs):\n",
    "        input_a = inputs\n",
    "        x = self.flatten(input_a)\n",
    "        x = self.Dense1(x)\n",
    "        outputs = self.classification(x)\n",
    "        \n",
    "        return outputs\n",
    "\n",
    "    \n",
    "    \n",
    "model = MNISTNetworkTest()      \n",
    "\n",
    "\n",
    "\n",
    "# Implement a custom loss\n",
    "\n",
    "'''\n",
    "# Below code is not correct\n",
    "# A simple idea on how it can be done\n",
    "\n",
    "\n",
    "class My_sparse_categorical_crossentropy(tf.keras.losses.Loss):\n",
    "    def __init__(self):\n",
    "        super().__init__()\n",
    "        \n",
    "    def call(self,true,pred):\n",
    "        sce =  tf.keras.losses.sparse_categorical_crossentropy()\n",
    "        return sce(true,pred).numpy()\n",
    "\n",
    "'''\n",
    "    \n",
    "\n",
    "model.compile(optimizer='adam',\n",
    "              loss=\"sparse_categorical_crossentropy\",\n",
    "              metrics=['accuracy'])\n",
    "\n",
    "\n",
    "\n",
    "history = model.fit(training_images, training_labels, epochs=1)"
   ]
  },
  {
   "cell_type": "code",
   "execution_count": null,
   "metadata": {},
   "outputs": [],
   "source": []
  }
 ],
 "metadata": {
  "kernelspec": {
   "display_name": "Python 3",
   "language": "python",
   "name": "python3"
  },
  "language_info": {
   "codemirror_mode": {
    "name": "ipython",
    "version": 3
   },
   "file_extension": ".py",
   "mimetype": "text/x-python",
   "name": "python",
   "nbconvert_exporter": "python",
   "pygments_lexer": "ipython3",
   "version": "3.7.0"
  }
 },
 "nbformat": 4,
 "nbformat_minor": 4
}
